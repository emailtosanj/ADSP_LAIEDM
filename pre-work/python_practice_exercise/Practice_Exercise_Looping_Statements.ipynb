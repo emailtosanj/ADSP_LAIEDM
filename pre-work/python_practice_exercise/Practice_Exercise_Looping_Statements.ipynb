{
  "cells": [
    {
      "cell_type": "markdown",
      "metadata": {
        "id": "FqYlr7bQLvDG"
      },
      "source": [
        "# **LOOPING STATEMENTS EXERCISE**"
      ]
    },
    {
      "cell_type": "markdown",
      "metadata": {
        "id": "-SX_xtpELvDJ"
      },
      "source": [
        "### 1. Print -10 to -1 using for loop"
      ]
    },
    {
      "cell_type": "code",
      "execution_count": 7,
      "metadata": {
        "colab": {
          "base_uri": "https://localhost:8080/"
        },
        "id": "ksXONYV6LvDK",
        "outputId": "7b4876f7-584c-4bd3-e078-d85190ea1160"
      },
      "outputs": [
        {
          "output_type": "stream",
          "name": "stdout",
          "text": [
            "-10\n",
            "-9\n",
            "-8\n",
            "-7\n",
            "-6\n",
            "-5\n",
            "-4\n",
            "-3\n",
            "-2\n",
            "-1\n"
          ]
        }
      ],
      "source": [
        "#range(start, stop[, step])\n",
        "for i in range(-10, 0, 1):\n",
        "  print(i)"
      ]
    },
    {
      "cell_type": "markdown",
      "metadata": {
        "id": "EHLHunpZLvDK"
      },
      "source": [
        "### 2. Using while loop print numbers 1 to 10"
      ]
    },
    {
      "cell_type": "code",
      "execution_count": 9,
      "metadata": {
        "colab": {
          "base_uri": "https://localhost:8080/"
        },
        "id": "lgqnGrjeLvDK",
        "outputId": "81f87af6-d6a4-40a8-d33f-04edfc59ee30"
      },
      "outputs": [
        {
          "output_type": "stream",
          "name": "stdout",
          "text": [
            "1\n",
            "2\n",
            "3\n",
            "4\n",
            "5\n",
            "6\n",
            "7\n",
            "8\n",
            "9\n",
            "10\n"
          ]
        }
      ],
      "source": [
        "i = 1\n",
        "while i <= 10:\n",
        "  print(i)\n",
        "  i += 1"
      ]
    },
    {
      "cell_type": "markdown",
      "metadata": {
        "id": "uGDV-tDLLvDL"
      },
      "source": [
        "### 3. Using for loop print first ten even numbers"
      ]
    },
    {
      "cell_type": "code",
      "execution_count": 10,
      "metadata": {
        "colab": {
          "base_uri": "https://localhost:8080/"
        },
        "id": "Z7cT1fvWLvDL",
        "outputId": "0a37ee6d-0d78-4968-be02-03261f46dc82"
      },
      "outputs": [
        {
          "output_type": "stream",
          "name": "stdout",
          "text": [
            "0\n",
            "2\n",
            "4\n",
            "6\n",
            "8\n",
            "10\n",
            "12\n",
            "14\n",
            "16\n",
            "18\n"
          ]
        }
      ],
      "source": [
        "for i in range(0, 20, 2):\n",
        "  print(i)"
      ]
    },
    {
      "cell_type": "markdown",
      "metadata": {
        "id": "hKFjZsAaLvDL"
      },
      "source": [
        "### 4. Using while loop generate the table of 5"
      ]
    },
    {
      "cell_type": "code",
      "execution_count": 12,
      "metadata": {
        "colab": {
          "base_uri": "https://localhost:8080/"
        },
        "id": "P3BUucHGLvDM",
        "outputId": "452341cd-6b2b-4e28-96bb-47691a191340"
      },
      "outputs": [
        {
          "output_type": "stream",
          "name": "stdout",
          "text": [
            "5\n",
            "10\n",
            "15\n",
            "20\n",
            "25\n",
            "30\n",
            "35\n",
            "40\n",
            "45\n",
            "50\n",
            "55\n",
            "60\n"
          ]
        }
      ],
      "source": [
        "i = 1\n",
        "while i <= 12:\n",
        "  print( 5 * i)\n",
        "  i += 1"
      ]
    },
    {
      "cell_type": "markdown",
      "metadata": {
        "id": "nOJYdmmHLvDM"
      },
      "source": [
        "### 5. Using for loop generate the table of 8"
      ]
    },
    {
      "cell_type": "code",
      "execution_count": 13,
      "metadata": {
        "colab": {
          "base_uri": "https://localhost:8080/"
        },
        "id": "-HobRE_OLvDM",
        "outputId": "56fd21c1-aa1f-4ca8-eb4f-7442b00311e6"
      },
      "outputs": [
        {
          "output_type": "stream",
          "name": "stdout",
          "text": [
            "8\n",
            "16\n",
            "24\n",
            "32\n",
            "40\n",
            "48\n",
            "56\n",
            "64\n",
            "72\n",
            "80\n",
            "88\n",
            "96\n"
          ]
        }
      ],
      "source": [
        "for i in range(1, 13):\n",
        "  print( 8 * i)"
      ]
    },
    {
      "cell_type": "markdown",
      "metadata": {
        "id": "SScl3S2mLvDM"
      },
      "source": [
        "### 6. For numbers 1 to 100, if a number is divisible by 3, then print Fizz.\n",
        "### If a number is divisible by 5, then print Buzz.\n",
        "### If a number is divisible by 3 and 5 both, then print FizzBuzz\n",
        "### If a number is neither divisible by 3 or 5, just print the number.\n",
        "\n",
        "Hint: use range(1,101) function  to generate numbers from 1 to 100"
      ]
    },
    {
      "cell_type": "code",
      "execution_count": 15,
      "metadata": {
        "colab": {
          "base_uri": "https://localhost:8080/"
        },
        "id": "RPGksXeOLvDN",
        "outputId": "b9def42f-3a24-442f-a0c6-7a5fd5744803"
      },
      "outputs": [
        {
          "output_type": "stream",
          "name": "stdout",
          "text": [
            "1\n",
            "2\n",
            "4\n",
            "Buzz\n",
            "7\n",
            "8\n",
            "Buzz\n",
            "11\n",
            "13\n",
            "14\n",
            "Buzz\n",
            "FizzBuzz\n",
            "16\n",
            "17\n",
            "19\n",
            "Buzz\n",
            "22\n",
            "23\n",
            "Buzz\n",
            "26\n",
            "28\n",
            "29\n",
            "Buzz\n",
            "FizzBuzz\n",
            "31\n",
            "32\n",
            "34\n",
            "Buzz\n",
            "37\n",
            "38\n",
            "Buzz\n",
            "41\n",
            "43\n",
            "44\n",
            "Buzz\n",
            "FizzBuzz\n",
            "46\n",
            "47\n",
            "49\n",
            "Buzz\n",
            "52\n",
            "53\n",
            "Buzz\n",
            "56\n",
            "58\n",
            "59\n",
            "Buzz\n",
            "FizzBuzz\n",
            "61\n",
            "62\n",
            "64\n",
            "Buzz\n",
            "67\n",
            "68\n",
            "Buzz\n",
            "71\n",
            "73\n",
            "74\n",
            "Buzz\n",
            "FizzBuzz\n",
            "76\n",
            "77\n",
            "79\n",
            "Buzz\n",
            "82\n",
            "83\n",
            "Buzz\n",
            "86\n",
            "88\n",
            "89\n",
            "Buzz\n",
            "FizzBuzz\n",
            "91\n",
            "92\n",
            "94\n",
            "Buzz\n",
            "97\n",
            "98\n",
            "Buzz\n"
          ]
        }
      ],
      "source": [
        "#import random\n",
        "#r_val = random.randint(1, 100)\n",
        "\n",
        "for i in range(1, 101):\n",
        "  div_by_five = (i % 5 == 0)\n",
        "  div_by_three = (i % 3 == 0)\n",
        "  if div_by_five:\n",
        "    print(\"Buzz\")\n",
        "  if div_by_three and div_by_five:\n",
        "    print(\"FizzBuzz\")\n",
        "  if not div_by_five and not div_by_three:\n",
        "    print(i)\n",
        "\n",
        "\n",
        "\n",
        "\n"
      ]
    },
    {
      "cell_type": "markdown",
      "metadata": {
        "id": "hzC9eaLOLvDN"
      },
      "source": [
        "### 7.  Using the range function find the sum of all numbers from 1 to 100.\n",
        "    For the numbers in the range (1,100):1+2+3+4+5......+100 = 5050"
      ]
    },
    {
      "cell_type": "code",
      "execution_count": 16,
      "metadata": {
        "colab": {
          "base_uri": "https://localhost:8080/"
        },
        "id": "PI9v1qHILvDN",
        "outputId": "85a8ed33-4d09-4813-a044-3cf04a6f15b1"
      },
      "outputs": [
        {
          "output_type": "stream",
          "name": "stdout",
          "text": [
            "5050\n"
          ]
        }
      ],
      "source": [
        "d = list()\n",
        "d = 1\n",
        "for i in range(2, 101):\n",
        "  d += i\n",
        "print(d)"
      ]
    },
    {
      "cell_type": "markdown",
      "metadata": {
        "id": "Axrz9cEBLvDN"
      },
      "source": [
        "### 8. Write a program which will find all such numbers which are divisible by 7 but are not a multiple of 5, between 202 and 320 (both included)."
      ]
    },
    {
      "cell_type": "code",
      "execution_count": 17,
      "metadata": {
        "colab": {
          "base_uri": "https://localhost:8080/"
        },
        "id": "Y3AIVS6xLvDN",
        "outputId": "92907508-86d1-47a7-818d-c7b21bc64567"
      },
      "outputs": [
        {
          "output_type": "stream",
          "name": "stdout",
          "text": [
            "203\n",
            "217\n",
            "224\n",
            "231\n",
            "238\n",
            "252\n",
            "259\n",
            "266\n",
            "273\n",
            "287\n",
            "294\n",
            "301\n",
            "308\n"
          ]
        }
      ],
      "source": [
        "for num in range(202, 321):\n",
        "  if num % 7 == 0 and num % 5 != 0:\n",
        "    print(num)"
      ]
    },
    {
      "cell_type": "markdown",
      "metadata": {
        "id": "rlB9j8JnLvDN"
      },
      "source": [
        "### 9. Python Program to count the number of vowels in a string.\n",
        "st = \"Data Science\"\n",
        "\n",
        "Output: No of vowels = 5"
      ]
    },
    {
      "cell_type": "code",
      "execution_count": 18,
      "metadata": {
        "colab": {
          "base_uri": "https://localhost:8080/"
        },
        "id": "_WRLZDT6LvDO",
        "outputId": "163d7ba5-60bf-4623-829f-d8f6ebe77e8f"
      },
      "outputs": [
        {
          "output_type": "stream",
          "name": "stdout",
          "text": [
            "5\n"
          ]
        }
      ],
      "source": [
        "num_vowels = 0\n",
        "st = \"Data Science\"\n",
        "for ch in st:\n",
        "  match ch:\n",
        "    case 'a' | 'e' | 'i' | 'o' | 'u':\n",
        "      num_vowels += 1\n",
        "print(num_vowels)\n"
      ]
    },
    {
      "cell_type": "markdown",
      "metadata": {
        "id": "v-MKnhctLvDO"
      },
      "source": [
        "### 10. Print Data Science 5 times using for loop"
      ]
    },
    {
      "cell_type": "code",
      "execution_count": 20,
      "metadata": {
        "colab": {
          "base_uri": "https://localhost:8080/"
        },
        "id": "0aC2Ib3ELvDO",
        "outputId": "799ee562-2cc9-4572-ec4a-dcc7e1690263"
      },
      "outputs": [
        {
          "output_type": "stream",
          "name": "stdout",
          "text": [
            "Data Science\n",
            "Data Science\n",
            "Data Science\n",
            "Data Science\n",
            "Data Science\n"
          ]
        }
      ],
      "source": [
        "for i in range(5):\n",
        "  print('Data Science')"
      ]
    }
  ],
  "metadata": {
    "kernelspec": {
      "display_name": "Python 3 (ipykernel)",
      "language": "python",
      "name": "python3"
    },
    "language_info": {
      "codemirror_mode": {
        "name": "ipython",
        "version": 3
      },
      "file_extension": ".py",
      "mimetype": "text/x-python",
      "name": "python",
      "nbconvert_exporter": "python",
      "pygments_lexer": "ipython3",
      "version": "3.9.7"
    },
    "colab": {
      "provenance": []
    }
  },
  "nbformat": 4,
  "nbformat_minor": 0
}