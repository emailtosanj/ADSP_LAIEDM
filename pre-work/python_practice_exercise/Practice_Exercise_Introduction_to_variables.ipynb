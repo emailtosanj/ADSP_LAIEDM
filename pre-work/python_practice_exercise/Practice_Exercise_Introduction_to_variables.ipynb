{
  "cells": [
    {
      "cell_type": "markdown",
      "metadata": {
        "id": "VP0O62wg9o-Y"
      },
      "source": [
        "# **INTRO TO VARIABLE EXERCISE**"
      ]
    },
    {
      "cell_type": "markdown",
      "metadata": {
        "id": "xDDEpE159o-Z"
      },
      "source": [
        "### 1. What will be the type of the *add* variable?\n",
        "a = 10\n",
        "\n",
        "b = 5.1\n",
        "\n",
        "add = a + b"
      ]
    },
    {
      "cell_type": "code",
      "execution_count": null,
      "metadata": {
        "colab": {
          "base_uri": "https://localhost:8080/"
        },
        "id": "mtLN8Txd9o-a",
        "outputId": "30f373bc-8148-4c76-e35a-50a99c855752"
      },
      "outputs": [
        {
          "output_type": "execute_result",
          "data": {
            "text/plain": [
              "float"
            ]
          },
          "metadata": {},
          "execution_count": 2
        }
      ],
      "source": [
        "a = 10\n",
        "b = 5.1\n",
        "add = a + b\n",
        "type(add)"
      ]
    },
    {
      "cell_type": "markdown",
      "metadata": {
        "id": "VS-noMIM9o-a"
      },
      "source": [
        "### 2. Is 5 == (3+2)?"
      ]
    },
    {
      "cell_type": "code",
      "execution_count": null,
      "metadata": {
        "colab": {
          "base_uri": "https://localhost:8080/"
        },
        "id": "pRyg_PVu9o-a",
        "outputId": "67c676de-81df-4d51-c743-c4340d45ed8b"
      },
      "outputs": [
        {
          "output_type": "execute_result",
          "data": {
            "text/plain": [
              "True"
            ]
          },
          "metadata": {},
          "execution_count": 3
        }
      ],
      "source": [
        "5 == (3+2)"
      ]
    },
    {
      "cell_type": "markdown",
      "metadata": {
        "id": "JbLL9Ehn9o-b"
      },
      "source": [
        "### 3. Add 33 in variable *a* and print the result\n",
        "\n",
        "a = 3"
      ]
    },
    {
      "cell_type": "code",
      "execution_count": null,
      "metadata": {
        "colab": {
          "base_uri": "https://localhost:8080/"
        },
        "id": "9J_B9off9o-b",
        "outputId": "3aaf6d18-f44b-4fb1-b214-5f5f6025c82b"
      },
      "outputs": [
        {
          "output_type": "stream",
          "name": "stdout",
          "text": [
            "36\n"
          ]
        }
      ],
      "source": [
        "a = 3\n",
        "a = a +33\n",
        "print(a)"
      ]
    },
    {
      "cell_type": "markdown",
      "metadata": {
        "id": "TtpVSUct9o-b"
      },
      "source": [
        "### 4. Convert integer variable *a* to float and check its type\n",
        "\n",
        "a = 3"
      ]
    },
    {
      "cell_type": "code",
      "execution_count": null,
      "metadata": {
        "id": "1PTSz_SO9o-b"
      },
      "outputs": [],
      "source": [
        "a = float(a)"
      ]
    },
    {
      "cell_type": "markdown",
      "metadata": {
        "id": "C6vvJhqK9o-b"
      },
      "source": [
        "### 5. What will be 5 times *a* if the value of a is 10?"
      ]
    },
    {
      "cell_type": "code",
      "execution_count": 1,
      "metadata": {
        "colab": {
          "base_uri": "https://localhost:8080/"
        },
        "id": "jpkEO5W79o-b",
        "outputId": "44148541-30ac-439c-bf23-581f026eebb3"
      },
      "outputs": [
        {
          "output_type": "stream",
          "name": "stdout",
          "text": [
            "50\n"
          ]
        }
      ],
      "source": [
        "a = 10\n",
        "print(a * 5)"
      ]
    },
    {
      "cell_type": "markdown",
      "metadata": {
        "id": "7UcHQvkk9o-b"
      },
      "source": [
        "### 6. Write a program to calculate the area of a triangle with base = 10 and height = 5\n",
        "\n",
        "Hint : area of triangle = 1/2 * base * height"
      ]
    },
    {
      "cell_type": "code",
      "execution_count": null,
      "metadata": {
        "colab": {
          "base_uri": "https://localhost:8080/"
        },
        "id": "VHdzdNpP9o-c",
        "outputId": "75c49b58-4d47-4c1f-aff8-0108d837c915"
      },
      "outputs": [
        {
          "output_type": "stream",
          "name": "stdout",
          "text": [
            "25.0\n"
          ]
        }
      ],
      "source": [
        "base = 10\n",
        "height = 5\n",
        "area = 1/2 * base * height\n",
        "print(area)"
      ]
    },
    {
      "cell_type": "markdown",
      "metadata": {
        "id": "SEMIY-hl9o-c"
      },
      "source": [
        "### 7. What will be the value of *z* in the following expression:\n",
        "\n",
        "z = (v + w) * (x / y)\n",
        "\n",
        "If\n",
        "\n",
        "v = 10\n",
        "\n",
        "w = 25\n",
        "\n",
        "x = 70\n",
        "\n",
        "y = 2"
      ]
    },
    {
      "cell_type": "code",
      "execution_count": 10,
      "metadata": {
        "id": "RmyojeEV9o-c",
        "colab": {
          "base_uri": "https://localhost:8080/"
        },
        "outputId": "b87b20ad-d2cd-42de-f983-970daeb35021"
      },
      "outputs": [
        {
          "output_type": "stream",
          "name": "stdout",
          "text": [
            "1225.0\n"
          ]
        }
      ],
      "source": [
        "\n",
        "\n",
        "v = 10\n",
        "\n",
        "w = 25\n",
        "\n",
        "x = 70\n",
        "\n",
        "y = 2\n",
        "\n",
        "z = (v + w) * (x /y)\n",
        "print(z)"
      ]
    },
    {
      "cell_type": "markdown",
      "metadata": {
        "id": "aHpz0A8g9o-c"
      },
      "source": [
        "### 8. Swap values of *a* and *b*\n",
        "If before swapping a = 10 and b = 5\n",
        "\n",
        "Then after swapping a = 5 and b = 10\n",
        "##### Values can not be hardcoded"
      ]
    },
    {
      "cell_type": "code",
      "execution_count": 14,
      "metadata": {
        "id": "9skD5Fru9o-c",
        "colab": {
          "base_uri": "https://localhost:8080/"
        },
        "outputId": "9da16455-ad27-4c8f-dda7-71e00372c593"
      },
      "outputs": [
        {
          "output_type": "stream",
          "name": "stdout",
          "text": [
            "5 10\n"
          ]
        }
      ],
      "source": [
        "a = 10\n",
        "b = 5\n",
        "a , b = b , a\n",
        "print(a,b)"
      ]
    },
    {
      "cell_type": "markdown",
      "metadata": {
        "id": "-wsWpvCO9o-c"
      },
      "source": [
        "### 9. Convert 35 degree Celsius temperature to Fahrenheit"
      ]
    },
    {
      "cell_type": "code",
      "execution_count": 18,
      "metadata": {
        "id": "PPinJDN69o-c",
        "colab": {
          "base_uri": "https://localhost:8080/"
        },
        "outputId": "25a79dda-514d-44af-9c0c-9b8a424e5748"
      },
      "outputs": [
        {
          "output_type": "stream",
          "name": "stdout",
          "text": [
            "95.0\n"
          ]
        }
      ],
      "source": [
        "# Formuale for convering Celsius to Farenheit is 9/5 * C + 32\n",
        "F = 9/5 * 35 + 32\n",
        "print(F)\n"
      ]
    }
  ],
  "metadata": {
    "kernelspec": {
      "display_name": "Python 3 (ipykernel)",
      "language": "python",
      "name": "python3"
    },
    "language_info": {
      "codemirror_mode": {
        "name": "ipython",
        "version": 3
      },
      "file_extension": ".py",
      "mimetype": "text/x-python",
      "name": "python",
      "nbconvert_exporter": "python",
      "pygments_lexer": "ipython3",
      "version": "3.9.7"
    },
    "colab": {
      "provenance": []
    }
  },
  "nbformat": 4,
  "nbformat_minor": 0
}