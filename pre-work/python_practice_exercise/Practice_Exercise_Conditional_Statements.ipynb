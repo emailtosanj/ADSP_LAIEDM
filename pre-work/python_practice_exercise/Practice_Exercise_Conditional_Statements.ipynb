{
  "cells": [
    {
      "cell_type": "markdown",
      "metadata": {
        "id": "y9A6KwGO_-ur"
      },
      "source": [
        "# **CONDITIONAL STATEMENTS EXERCISE**"
      ]
    },
    {
      "cell_type": "markdown",
      "metadata": {
        "id": "ajzES06L_-uu"
      },
      "source": [
        "### 1. Check if a is equal to 10, If yes, print \"Hello\", else print \"Good Bye\"\n",
        "a = 56"
      ]
    },
    {
      "cell_type": "code",
      "execution_count": 3,
      "metadata": {
        "colab": {
          "base_uri": "https://localhost:8080/"
        },
        "id": "pawp1krg_-uv",
        "outputId": "aed43b88-8656-4de7-fdef-fc49fde5f4b4"
      },
      "outputs": [
        {
          "output_type": "stream",
          "name": "stdout",
          "text": [
            "Good Bye\n"
          ]
        }
      ],
      "source": [
        "a = 56\n",
        "if a == 10:\n",
        "  print(\"Hello\")\n",
        "else:\n",
        "  print(\"Good Bye\")"
      ]
    },
    {
      "cell_type": "markdown",
      "metadata": {
        "id": "uhGzxV8m_-uw"
      },
      "source": [
        "### 2. Check whether a number is even or odd\n",
        "a = 2020"
      ]
    },
    {
      "cell_type": "code",
      "execution_count": 4,
      "metadata": {
        "colab": {
          "base_uri": "https://localhost:8080/"
        },
        "id": "LRyxR8Yy_-uw",
        "outputId": "bf96ccf0-ee94-44ae-ab65-45573f91cbe0"
      },
      "outputs": [
        {
          "output_type": "stream",
          "name": "stdout",
          "text": [
            "Even\n"
          ]
        }
      ],
      "source": [
        "a = 2020\n",
        "if a % 2 == 0:\n",
        "  print(\"Even\")\n",
        "else:\n",
        "  print(\"Odd\")"
      ]
    },
    {
      "cell_type": "markdown",
      "metadata": {
        "id": "lsoTRSlC_-uw"
      },
      "source": [
        "### 3.  Check whether the area of the rectangle is greater than the perimeter of the rectangle\n",
        "length = 5\n",
        "breadth = 10\n",
        "\n",
        "Hint: Area of rectangle = length * breadth\n",
        "\n",
        "Hint: Perimeter of rectangle = 2 * (length + breadth)"
      ]
    },
    {
      "cell_type": "code",
      "execution_count": 1,
      "metadata": {
        "colab": {
          "base_uri": "https://localhost:8080/"
        },
        "id": "0cK9Fnd7_-uw",
        "outputId": "8cc5f940-4bca-4b22-8f00-021a34dda263"
      },
      "outputs": [
        {
          "output_type": "stream",
          "name": "stdout",
          "text": [
            "True\n"
          ]
        }
      ],
      "source": [
        "length = 5\n",
        "breadth = 10\n",
        "\n",
        "area_gt_than_perimeter = True if (length * breadth) > 2 * (length + breadth) else False\n",
        "print(area_gt_than_perimeter)"
      ]
    },
    {
      "cell_type": "markdown",
      "metadata": {
        "id": "W8ug71-j_-ux"
      },
      "source": [
        "### 4. Calculate the average marks of a student in 5 subjects and give grades accordingly:\n",
        "If average>90 then Grade = A\n",
        "\n",
        "If average>80 then Grade = B\n",
        "\n",
        "If average>70 then Grade = C\n",
        "\n",
        "If average>60 then Grade = D\n",
        "\n",
        "If average>50 then Grade = E\n",
        "\n",
        "else Fail\n",
        "\n",
        "Marks in subject 1= 72\n",
        "\n",
        "Marks in subject 2= 85\n",
        "\n",
        "Marks in subject 3= 96\n",
        "\n",
        "Marks in subject 4= 42\n",
        "\n",
        "Marks in subject 5= 95"
      ]
    },
    {
      "cell_type": "code",
      "execution_count": 5,
      "metadata": {
        "colab": {
          "base_uri": "https://localhost:8080/"
        },
        "id": "QAXPlrg2_-ux",
        "outputId": "95de7194-7fef-444d-d773-fb5112610164"
      },
      "outputs": [
        {
          "output_type": "stream",
          "name": "stdout",
          "text": [
            "Grade = C\n"
          ]
        }
      ],
      "source": [
        "sub1 = 72\n",
        "sub2 = 85\n",
        "sub3 = 96\n",
        "sub4 = 42\n",
        "sub5 = 95\n",
        "\n",
        "avg = (sub1 + sub2 + sub3 + sub4 + sub5) / 5\n",
        "\n",
        "if avg > 90:\n",
        "  print(\"Grade = A\")\n",
        "elif avg > 80:\n",
        "  print(\"Grade = B\")\n",
        "elif avg > 70:\n",
        "  print(\"Grade = C\")\n",
        "elif avg > 60:\n",
        "  print(\"Grade = D\")\n",
        "elif avg > 50:\n",
        "  print(\"Grade = E\")\n",
        "else:\n",
        "  print(\"Fail\")"
      ]
    },
    {
      "cell_type": "markdown",
      "metadata": {
        "id": "qQP0pMG9_-ux"
      },
      "source": [
        "###  5. Check if a triangle is equilateral, isosceles or scalene.\n",
        "\n",
        "Hint :\n",
        "1. An equilateral triangle is a triangle in which all three sides are equal.\n",
        "\n",
        "2. A scalene triangle is a triangle that has three unequal sides.\n",
        "\n",
        "3. An isosceles triangle is a triangle with (at least) two equal sides.\n",
        "\n",
        "Dimensions of triangle:\n",
        "\n",
        "side 1 = 6\n",
        "\n",
        "side 2 = 8\n",
        "\n",
        "side 3 = 12"
      ]
    },
    {
      "cell_type": "code",
      "execution_count": 6,
      "metadata": {
        "colab": {
          "base_uri": "https://localhost:8080/"
        },
        "id": "7GKvhe3B_-uy",
        "outputId": "c950cecb-5a10-42d5-b473-81c311b5238e"
      },
      "outputs": [
        {
          "output_type": "stream",
          "name": "stdout",
          "text": [
            "Scalene\n"
          ]
        }
      ],
      "source": [
        "side1 = 6\n",
        "side2 = 8\n",
        "side3 = 12\n",
        "\n",
        "if side1 == side2 == side3:\n",
        "  print(\"Equilateral\")\n",
        "elif side1 == side2 or side2 == side3:\n",
        "  print(\"Isoceles\")\n",
        "else:\n",
        "  print(\"Scalene\")"
      ]
    },
    {
      "cell_type": "markdown",
      "metadata": {
        "id": "CvwNdNJp_-uy"
      },
      "source": [
        "### 6. Check if the word \"Data\" is present in the sentence \"I am a Data Scientist\". If found print \"It is present\" else print FALSE"
      ]
    },
    {
      "cell_type": "code",
      "execution_count": 9,
      "metadata": {
        "colab": {
          "base_uri": "https://localhost:8080/"
        },
        "id": "fmhZg3yZ_-uy",
        "outputId": "2feb8320-f674-42dc-fd14-8c7a3b2fb3c0"
      },
      "outputs": [
        {
          "output_type": "stream",
          "name": "stdout",
          "text": [
            "It is present\n"
          ]
        }
      ],
      "source": [
        "st = \"I am a Data Scientist\"\n",
        "if \"Data\" in st:\n",
        "  print(\"It is present\")\n",
        "else:\n",
        "  print(False)"
      ]
    },
    {
      "cell_type": "markdown",
      "metadata": {
        "id": "pxbi-4x2_-uy"
      },
      "source": [
        "### 7. Write Python code to check if a number is positive or negative."
      ]
    },
    {
      "cell_type": "code",
      "execution_count": null,
      "metadata": {
        "id": "seUNZ45k_-uy"
      },
      "outputs": [],
      "source": [
        "v = -100\n",
        "if v > 0:\n",
        "  print(\"Positive\")\n",
        "elif v < 0:\n",
        "  print(\"Negative\")\n",
        "else:\n",
        "  print(\"Zero\")"
      ]
    },
    {
      "cell_type": "markdown",
      "metadata": {
        "id": "QOrbshR3_-uy"
      },
      "source": [
        "### 8. x = 20 and y = 30. Write a Python code to check if x is less than y."
      ]
    },
    {
      "cell_type": "code",
      "execution_count": 10,
      "metadata": {
        "colab": {
          "base_uri": "https://localhost:8080/"
        },
        "id": "rHy6Xzdm_-uz",
        "outputId": "a32c17e4-b516-4745-bf08-86ffa37acb6f"
      },
      "outputs": [
        {
          "output_type": "execute_result",
          "data": {
            "text/plain": [
              "True"
            ]
          },
          "metadata": {},
          "execution_count": 10
        }
      ],
      "source": [
        "x = 20\n",
        "y = 30\n",
        "x < y"
      ]
    },
    {
      "cell_type": "markdown",
      "metadata": {
        "id": "O31KYWbk_-uz"
      },
      "source": [
        "### 9. Based on the users age, divide them into three groups\n",
        "    Group 1 : Age <18 , Minors who are not eligible to work\n",
        "    Group 2 : 18 < Age < 60 , Eligible to work\n",
        "    Group 3 : Age > 60, Too old to work as per govt. regulations.\n",
        "\n",
        "### Write a Python code for the same"
      ]
    },
    {
      "cell_type": "code",
      "execution_count": 11,
      "metadata": {
        "colab": {
          "base_uri": "https://localhost:8080/"
        },
        "id": "Nf3oMUWq_-uz",
        "outputId": "9b1f7145-2fbe-4cd8-c619-314f2f7897e1"
      },
      "outputs": [
        {
          "output_type": "stream",
          "name": "stdout",
          "text": [
            "Too old to work as per govt. regulations.\n"
          ]
        }
      ],
      "source": [
        "age = 99\n",
        "if age < 18:\n",
        "  print(\"Minors who are not eligible to work\")\n",
        "elif age < 60:\n",
        "  print(\"Eligible to work\")\n",
        "elif age > 60:\n",
        "  print(\"Too old to work as per govt. regulations.\")"
      ]
    },
    {
      "cell_type": "markdown",
      "metadata": {
        "id": "mOT1njs-_-uz"
      },
      "source": [
        "### 10. From the age of 3 people determine the oldest person among them.\n",
        "Age of first person = 25\n",
        "\n",
        "Age of second person = 34\n",
        "\n",
        "Age of third person = 45"
      ]
    },
    {
      "cell_type": "code",
      "execution_count": 12,
      "metadata": {
        "colab": {
          "base_uri": "https://localhost:8080/"
        },
        "id": "NNdMFd04_-uz",
        "outputId": "1a53334a-3521-42f0-dc4b-db775fa46426"
      },
      "outputs": [
        {
          "output_type": "execute_result",
          "data": {
            "text/plain": [
              "45"
            ]
          },
          "metadata": {},
          "execution_count": 12
        }
      ],
      "source": [
        "age1 = 25\n",
        "age2 = 34\n",
        "age3 = 45\n",
        "\n",
        "max(age1, age2, age3)"
      ]
    }
  ],
  "metadata": {
    "kernelspec": {
      "display_name": "Python 3 (ipykernel)",
      "language": "python",
      "name": "python3"
    },
    "language_info": {
      "codemirror_mode": {
        "name": "ipython",
        "version": 3
      },
      "file_extension": ".py",
      "mimetype": "text/x-python",
      "name": "python",
      "nbconvert_exporter": "python",
      "pygments_lexer": "ipython3",
      "version": "3.9.7"
    },
    "colab": {
      "provenance": []
    }
  },
  "nbformat": 4,
  "nbformat_minor": 0
}