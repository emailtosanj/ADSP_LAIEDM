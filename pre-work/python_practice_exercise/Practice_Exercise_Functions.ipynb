{
  "cells": [
    {
      "cell_type": "markdown",
      "metadata": {
        "id": "7i42dnoxkjYZ"
      },
      "source": [
        "# **USER DEFINED FUNCTION AND LAMBDA FUNCTIONS EXERCISE**"
      ]
    },
    {
      "cell_type": "markdown",
      "metadata": {
        "id": "Jj5PDdbskjYc"
      },
      "source": [
        "### 1. Write a function to add, subtract, multiply and divide two variables\n",
        "\n",
        "---\n",
        "\n",
        "passed to it and print the result"
      ]
    },
    {
      "cell_type": "code",
      "execution_count": null,
      "metadata": {
        "colab": {
          "base_uri": "https://localhost:8080/"
        },
        "id": "AgpGTCKEkjYd",
        "outputId": "38fb2616-9175-4358-c10d-1194ae224ee0"
      },
      "outputs": [
        {
          "output_type": "execute_result",
          "data": {
            "text/plain": [
              "(15, 5, 50, 2.0)"
            ]
          },
          "metadata": {},
          "execution_count": 2
        }
      ],
      "source": [
        "def perform_add_sub_multi_div(num1, num2):\n",
        "  add = num1 + num2\n",
        "  sub = num1 - num2\n",
        "  multi = num1 * num2\n",
        "  div = num1 / num2\n",
        "  return add, sub, multi, div\n",
        "\n",
        "perform_add_sub_multi_div(10, 5)"
      ]
    },
    {
      "cell_type": "markdown",
      "metadata": {
        "id": "fEdF9ovvkjYd"
      },
      "source": [
        "### 2. Write a Python function given range (1,10) both included, that gives the square of every number"
      ]
    },
    {
      "cell_type": "code",
      "execution_count": null,
      "metadata": {
        "colab": {
          "base_uri": "https://localhost:8080/"
        },
        "id": "FEePrL7KkjYd",
        "outputId": "6f7a0c5a-5e78-4b27-fc79-0bc7bc14e8c6"
      },
      "outputs": [
        {
          "output_type": "execute_result",
          "data": {
            "text/plain": [
              "[1, 4, 9, 16, 25, 36, 49, 64, 81, 100]"
            ]
          },
          "metadata": {},
          "execution_count": 3
        }
      ],
      "source": [
        "def square(num1, num2):\n",
        "   return [i**2 for i in range(num1,num2+1)]\n",
        "\n",
        "square(1, 10)\n",
        "\n"
      ]
    },
    {
      "cell_type": "markdown",
      "source": [],
      "metadata": {
        "id": "FatWbeOXoLhL"
      }
    },
    {
      "cell_type": "markdown",
      "metadata": {
        "id": "6gNXcbAukjYe"
      },
      "source": [
        "### 3. Write a function to calculate simple interest\n",
        "\n",
        "simple interest = (Principal amount * Annual Rate of interest * Time(in years))/100\n",
        "\n",
        "Take values as follows\n",
        "\n",
        "Principal Amount = 1000\n",
        "\n",
        "Rate of interest = 3%\n",
        "\n",
        "Time = 5 years"
      ]
    },
    {
      "cell_type": "code",
      "execution_count": 1,
      "metadata": {
        "id": "UE8mhzVykjYe",
        "colab": {
          "base_uri": "https://localhost:8080/"
        },
        "outputId": "807c3f81-678b-44d8-b3da-8e813bf4bda6"
      },
      "outputs": [
        {
          "output_type": "execute_result",
          "data": {
            "text/plain": [
              "150.0"
            ]
          },
          "metadata": {},
          "execution_count": 1
        }
      ],
      "source": [
        "def simple_interest(principal_amt, annual_rate_of_interest, time):\n",
        "  return (principal_amt * annual_rate_of_interest * time)/100\n",
        "\n",
        "simple_interest(1000, 3, 5)"
      ]
    },
    {
      "cell_type": "markdown",
      "metadata": {
        "id": "H3RAXWOTkjYe"
      },
      "source": [
        "### 4. Write a function to check the number is divisible by 25. The function should return True if divisible and \"Not divisible\" if not"
      ]
    },
    {
      "cell_type": "code",
      "execution_count": 2,
      "metadata": {
        "id": "Z-ES8FqMkjYf",
        "colab": {
          "base_uri": "https://localhost:8080/"
        },
        "outputId": "bb53e292-0ca8-4977-fccd-8bac482aa136"
      },
      "outputs": [
        {
          "output_type": "execute_result",
          "data": {
            "text/plain": [
              "True"
            ]
          },
          "metadata": {},
          "execution_count": 2
        }
      ],
      "source": [
        "def number_divisible_by_25(num):\n",
        "  if num % 25 == 0:\n",
        "    return True\n",
        "  else:\n",
        "    return \"Not divisble\"\n",
        "\n",
        "number_divisible_by_25(100)"
      ]
    },
    {
      "cell_type": "markdown",
      "metadata": {
        "id": "nsCMxyyUkjYf"
      },
      "source": [
        "### 5. Define a function that takes an input, squares it, adds 5, then returns the answer"
      ]
    },
    {
      "cell_type": "code",
      "execution_count": 3,
      "metadata": {
        "id": "FUdAEDWXkjYf",
        "colab": {
          "base_uri": "https://localhost:8080/"
        },
        "outputId": "97ecec61-ef5b-4251-d392-c911bc9e6fbc"
      },
      "outputs": [
        {
          "output_type": "execute_result",
          "data": {
            "text/plain": [
              "21"
            ]
          },
          "metadata": {},
          "execution_count": 3
        }
      ],
      "source": [
        "def square_add_five(num):\n",
        "  return (num**2) + 5\n",
        "\n",
        "square_add_five(4)"
      ]
    },
    {
      "cell_type": "markdown",
      "metadata": {
        "id": "I3aBzWOCkjYf"
      },
      "source": [
        "### 6. Using lambda function perform the following task : take an input, squares it, add 5, then return the answer"
      ]
    },
    {
      "cell_type": "code",
      "execution_count": 5,
      "metadata": {
        "id": "v6z2D6-okjYg",
        "colab": {
          "base_uri": "https://localhost:8080/"
        },
        "outputId": "50892c08-63ec-4630-bc23-6440a8180dcc"
      },
      "outputs": [
        {
          "output_type": "execute_result",
          "data": {
            "text/plain": [
              "30"
            ]
          },
          "metadata": {},
          "execution_count": 5
        }
      ],
      "source": [
        "func = lambda num: (num**2) + 5\n",
        "func(5)"
      ]
    },
    {
      "cell_type": "markdown",
      "metadata": {
        "id": "KWP4Ed3RkjYg"
      },
      "source": [
        "### 7. Write a function to calculate the power of a number raised to other ($a^b$)"
      ]
    },
    {
      "cell_type": "code",
      "execution_count": 6,
      "metadata": {
        "id": "aS1QlyE-kjYg",
        "colab": {
          "base_uri": "https://localhost:8080/"
        },
        "outputId": "29a1b71c-2839-4b63-fb35-a95b169f2942"
      },
      "outputs": [
        {
          "output_type": "execute_result",
          "data": {
            "text/plain": [
              "512"
            ]
          },
          "metadata": {},
          "execution_count": 6
        }
      ],
      "source": [
        "def power(num1, num2):\n",
        "  return num1**num2\n",
        "\n",
        "power(8, 3)"
      ]
    },
    {
      "cell_type": "markdown",
      "metadata": {
        "id": "tffS4fAgkjYg"
      },
      "source": [
        "### 8. Write a function to calculate the area of a triangle\n",
        "\n",
        "area of triangle = 1/2 * base * height"
      ]
    },
    {
      "cell_type": "code",
      "execution_count": 7,
      "metadata": {
        "id": "T_P2pKNbkjYg",
        "colab": {
          "base_uri": "https://localhost:8080/"
        },
        "outputId": "dcf75424-5a42-4581-a41e-a38d5ae13b9c"
      },
      "outputs": [
        {
          "output_type": "execute_result",
          "data": {
            "text/plain": [
              "100.0"
            ]
          },
          "metadata": {},
          "execution_count": 7
        }
      ],
      "source": [
        "def area_of_traingle(base, height):\n",
        "  return (1/2) * base * height\n",
        "\n",
        "area_of_traingle(10, 20)"
      ]
    },
    {
      "cell_type": "markdown",
      "metadata": {
        "id": "Tjg0Ve1SkjYg"
      },
      "source": [
        "### 9. Create a function that takes country as the input and returns \"I am from *Country* \""
      ]
    },
    {
      "cell_type": "code",
      "execution_count": 8,
      "metadata": {
        "id": "wYlMzVASkjYg",
        "colab": {
          "base_uri": "https://localhost:8080/",
          "height": 35
        },
        "outputId": "369f2f2a-f332-4cbc-cbdf-5eb45c500de4"
      },
      "outputs": [
        {
          "output_type": "execute_result",
          "data": {
            "text/plain": [
              "'I am from India'"
            ],
            "application/vnd.google.colaboratory.intrinsic+json": {
              "type": "string"
            }
          },
          "metadata": {},
          "execution_count": 8
        }
      ],
      "source": [
        "def from_country(cntry):\n",
        "  return f\"I am from {cntry}\"\n",
        "\n",
        "from_country(\"India\")"
      ]
    },
    {
      "cell_type": "markdown",
      "metadata": {
        "id": "gpwb8ewJkjYg"
      },
      "source": [
        "### 10. Write a function to convert degree Celsius temperature to Fahrenheit"
      ]
    },
    {
      "cell_type": "code",
      "execution_count": 10,
      "metadata": {
        "id": "cXzZnbf7kjYh",
        "colab": {
          "base_uri": "https://localhost:8080/"
        },
        "outputId": "1f31c6e6-4a7f-4790-d3c1-274f7c9ce3a3"
      },
      "outputs": [
        {
          "output_type": "execute_result",
          "data": {
            "text/plain": [
              "98.60000000000001"
            ]
          },
          "metadata": {},
          "execution_count": 10
        }
      ],
      "source": [
        "def celsius_to_farenheit(celsius):\n",
        "  return 9/5 * celsius + 32\n",
        "\n",
        "celsius_to_farenheit(37)"
      ]
    }
  ],
  "metadata": {
    "kernelspec": {
      "display_name": "Python 3 (ipykernel)",
      "language": "python",
      "name": "python3"
    },
    "language_info": {
      "codemirror_mode": {
        "name": "ipython",
        "version": 3
      },
      "file_extension": ".py",
      "mimetype": "text/x-python",
      "name": "python",
      "nbconvert_exporter": "python",
      "pygments_lexer": "ipython3",
      "version": "3.9.7"
    },
    "colab": {
      "provenance": []
    }
  },
  "nbformat": 4,
  "nbformat_minor": 0
}