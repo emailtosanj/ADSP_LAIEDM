{
  "cells": [
    {
      "cell_type": "markdown",
      "metadata": {
        "id": "7i42dnoxkjYZ"
      },
      "source": [
        "# **USER DEFINED FUNCTION AND LAMBDA FUNCTIONS EXERCISE**"
      ]
    },
    {
      "cell_type": "markdown",
      "metadata": {
        "id": "Jj5PDdbskjYc"
      },
      "source": [
        "### 1. Write a function to add, subtract, multiply and divide two variables\n",
        "\n",
        "---\n",
        "\n",
        "passed to it and print the result"
      ]
    },
    {
      "cell_type": "code",
      "execution_count": 2,
      "metadata": {
        "colab": {
          "base_uri": "https://localhost:8080/"
        },
        "id": "AgpGTCKEkjYd",
        "outputId": "38fb2616-9175-4358-c10d-1194ae224ee0"
      },
      "outputs": [
        {
          "output_type": "execute_result",
          "data": {
            "text/plain": [
              "(15, 5, 50, 2.0)"
            ]
          },
          "metadata": {},
          "execution_count": 2
        }
      ],
      "source": [
        "def perform_add_sub_multi_div(num1, num2):\n",
        "  add = num1 + num2\n",
        "  sub = num1 - num2\n",
        "  multi = num1 * num2\n",
        "  div = num1 / num2\n",
        "  return add, sub, multi, div\n",
        "\n",
        "perform_add_sub_multi_div(10, 5)"
      ]
    },
    {
      "cell_type": "markdown",
      "metadata": {
        "id": "fEdF9ovvkjYd"
      },
      "source": [
        "### 2. Write a Python function given range (1,10) both included, that gives the square of every number"
      ]
    },
    {
      "cell_type": "code",
      "execution_count": null,
      "metadata": {
        "id": "FEePrL7KkjYd"
      },
      "outputs": [],
      "source": []
    },
    {
      "cell_type": "markdown",
      "metadata": {
        "id": "6gNXcbAukjYe"
      },
      "source": [
        "### 3. Write a function to calculate simple interest\n",
        "\n",
        "simple interest = (Principal amount * Annual Rate of interest * Time(in years))/100\n",
        "\n",
        "Take values as follows\n",
        "\n",
        "Principal Amount = 1000\n",
        "\n",
        "Rate of interest = 3%\n",
        "\n",
        "Time = 5 years"
      ]
    },
    {
      "cell_type": "code",
      "execution_count": null,
      "metadata": {
        "id": "UE8mhzVykjYe"
      },
      "outputs": [],
      "source": []
    },
    {
      "cell_type": "markdown",
      "metadata": {
        "id": "H3RAXWOTkjYe"
      },
      "source": [
        "### 4. Write a function to check the number is divisible by 25. The function should return True if divisible and \"Not divisible\" if not"
      ]
    },
    {
      "cell_type": "code",
      "execution_count": null,
      "metadata": {
        "id": "Z-ES8FqMkjYf"
      },
      "outputs": [],
      "source": []
    },
    {
      "cell_type": "markdown",
      "metadata": {
        "id": "nsCMxyyUkjYf"
      },
      "source": [
        "### 5. Define a function that takes an input, squares it, adds 5, then returns the answer"
      ]
    },
    {
      "cell_type": "code",
      "execution_count": null,
      "metadata": {
        "id": "FUdAEDWXkjYf"
      },
      "outputs": [],
      "source": []
    },
    {
      "cell_type": "markdown",
      "metadata": {
        "id": "I3aBzWOCkjYf"
      },
      "source": [
        "### 6. Using lambda function perform the following task : take an input, squares it, add 5, then return the answer"
      ]
    },
    {
      "cell_type": "code",
      "execution_count": null,
      "metadata": {
        "id": "v6z2D6-okjYg"
      },
      "outputs": [],
      "source": []
    },
    {
      "cell_type": "markdown",
      "metadata": {
        "id": "KWP4Ed3RkjYg"
      },
      "source": [
        "### 7. Write a function to calculate the power of a number raised to other ($a^b$)"
      ]
    },
    {
      "cell_type": "code",
      "execution_count": null,
      "metadata": {
        "id": "aS1QlyE-kjYg"
      },
      "outputs": [],
      "source": []
    },
    {
      "cell_type": "markdown",
      "metadata": {
        "id": "tffS4fAgkjYg"
      },
      "source": [
        "### 8. Write a function to calculate the area of a triangle\n",
        "\n",
        "area of triangle = 1/2 * base * height"
      ]
    },
    {
      "cell_type": "code",
      "execution_count": null,
      "metadata": {
        "id": "T_P2pKNbkjYg"
      },
      "outputs": [],
      "source": []
    },
    {
      "cell_type": "markdown",
      "metadata": {
        "id": "Tjg0Ve1SkjYg"
      },
      "source": [
        "### 9. Create a function that takes country as the input and returns \"I am from *Country* \""
      ]
    },
    {
      "cell_type": "code",
      "execution_count": null,
      "metadata": {
        "id": "wYlMzVASkjYg"
      },
      "outputs": [],
      "source": []
    },
    {
      "cell_type": "markdown",
      "metadata": {
        "id": "gpwb8ewJkjYg"
      },
      "source": [
        "### 10. Write a function to convert degree Celsius temperature to Fahrenheit"
      ]
    },
    {
      "cell_type": "code",
      "execution_count": null,
      "metadata": {
        "id": "cXzZnbf7kjYh"
      },
      "outputs": [],
      "source": []
    }
  ],
  "metadata": {
    "kernelspec": {
      "display_name": "Python 3 (ipykernel)",
      "language": "python",
      "name": "python3"
    },
    "language_info": {
      "codemirror_mode": {
        "name": "ipython",
        "version": 3
      },
      "file_extension": ".py",
      "mimetype": "text/x-python",
      "name": "python",
      "nbconvert_exporter": "python",
      "pygments_lexer": "ipython3",
      "version": "3.9.7"
    },
    "colab": {
      "provenance": []
    }
  },
  "nbformat": 4,
  "nbformat_minor": 0
}