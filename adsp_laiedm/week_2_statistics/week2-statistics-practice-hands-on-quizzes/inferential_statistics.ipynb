{
  "nbformat": 4,
  "nbformat_minor": 0,
  "metadata": {
    "colab": {
      "provenance": []
    },
    "kernelspec": {
      "name": "python3",
      "display_name": "Python 3"
    },
    "language_info": {
      "name": "python"
    }
  },
  "cells": [
    {
      "cell_type": "markdown",
      "source": [
        "# **Important Note:**\n",
        "For inferential statistics concepts refer document \"../inferential_stats/inferential_statistics_concepts_FAQ.docx\" in the same path of this notebook."
      ],
      "metadata": {
        "id": "QBKmGwdvFoS9"
      }
    },
    {
      "cell_type": "code",
      "execution_count": 3,
      "metadata": {
        "colab": {
          "base_uri": "https://localhost:8080/"
        },
        "id": "mhlk-JypBXXQ",
        "outputId": "8e062946-dd09-4480-8f6a-b7e551dd4778"
      },
      "outputs": [
        {
          "output_type": "stream",
          "name": "stdout",
          "text": [
            "Drive already mounted at /content/drive; to attempt to forcibly remount, call drive.mount(\"/content/drive\", force_remount=True).\n"
          ]
        },
        {
          "output_type": "execute_result",
          "data": {
            "text/plain": [
              "<function posix.getcwd()>"
            ]
          },
          "metadata": {},
          "execution_count": 3
        }
      ],
      "source": [
        "from google.colab import drive\n",
        "drive.mount('/content/drive')\n"
      ]
    },
    {
      "cell_type": "code",
      "source": [
        "import os\n",
        "os.listdir(os.getcwd()+'/drive/MyDrive/adsp_laiedm/week_2_statistics/')\n"
      ],
      "metadata": {
        "colab": {
          "base_uri": "https://localhost:8080/"
        },
        "id": "VhpD2TZrMmvf",
        "outputId": "ee66bf4b-dc76-49db-c3ed-24071df4337d"
      },
      "execution_count": 11,
      "outputs": [
        {
          "output_type": "execute_result",
          "data": {
            "text/plain": [
              "['week2-statistics-practice-hands-on-quizzes',\n",
              " 'inferential_stats',\n",
              " 'hypothesis_testing',\n",
              " 'mls_py_statistics_for_ds']"
            ]
          },
          "metadata": {},
          "execution_count": 11
        }
      ]
    },
    {
      "cell_type": "code",
      "source": [
        "from scipy.stats import uniform\n",
        "uniform.cdf"
      ],
      "metadata": {
        "colab": {
          "base_uri": "https://localhost:8080/",
          "height": 187
        },
        "id": "E-28kosTMg9j",
        "outputId": "ea50a9a4-1545-4db7-c5bc-17dff2550b77"
      },
      "execution_count": 13,
      "outputs": [
        {
          "output_type": "execute_result",
          "data": {
            "text/plain": [
              "<bound method rv_continuous.cdf of <scipy.stats._continuous_distns.uniform_gen object at 0x7fc8c8c664d0>>"
            ],
            "text/html": [
              "<div style=\"max-width:800px; border: 1px solid var(--colab-border-color);\"><style>\n",
              "      pre.function-repr-contents {\n",
              "        overflow-x: auto;\n",
              "        padding: 8px 12px;\n",
              "        max-height: 500px;\n",
              "      }\n",
              "\n",
              "      pre.function-repr-contents.function-repr-contents-collapsed {\n",
              "        cursor: pointer;\n",
              "        max-height: 100px;\n",
              "      }\n",
              "    </style>\n",
              "    <pre style=\"white-space: initial; background:\n",
              "         var(--colab-secondary-surface-color); padding: 8px 12px;\n",
              "         border-bottom: 1px solid var(--colab-border-color);\"><b>scipy.stats._distn_infrastructure.rv_continuous.cdf</b><br/>def cdf(x, *args, **kwds)</pre><pre class=\"function-repr-contents function-repr-contents-collapsed\" style=\"\"><a class=\"filepath\" style=\"display:none\" href=\"#\">/usr/local/lib/python3.11/dist-packages/scipy/stats/_distn_infrastructure.py</a>Cumulative distribution function of the given RV.\n",
              "\n",
              "Parameters\n",
              "----------\n",
              "x : array_like\n",
              "    quantiles\n",
              "arg1, arg2, arg3,... : array_like\n",
              "    The shape parameter(s) for the distribution (see docstring of the\n",
              "    instance object for more information)\n",
              "loc : array_like, optional\n",
              "    location parameter (default=0)\n",
              "scale : array_like, optional\n",
              "    scale parameter (default=1)\n",
              "\n",
              "Returns\n",
              "-------\n",
              "cdf : ndarray\n",
              "    Cumulative distribution function evaluated at `x`</pre>\n",
              "      <script>\n",
              "      if (google.colab.kernel.accessAllowed && google.colab.files && google.colab.files.view) {\n",
              "        for (const element of document.querySelectorAll('.filepath')) {\n",
              "          element.style.display = 'block'\n",
              "          element.onclick = (event) => {\n",
              "            event.preventDefault();\n",
              "            event.stopPropagation();\n",
              "            google.colab.files.view(element.textContent, 2102);\n",
              "          };\n",
              "        }\n",
              "      }\n",
              "      for (const element of document.querySelectorAll('.function-repr-contents')) {\n",
              "        element.onclick = (event) => {\n",
              "          event.preventDefault();\n",
              "          event.stopPropagation();\n",
              "          element.classList.toggle('function-repr-contents-collapsed');\n",
              "        };\n",
              "      }\n",
              "      </script>\n",
              "      </div>"
            ]
          },
          "metadata": {},
          "execution_count": 13
        }
      ]
    },
    {
      "cell_type": "code",
      "source": [
        "uniform.pdf # Probability Density Function"
      ],
      "metadata": {
        "colab": {
          "base_uri": "https://localhost:8080/",
          "height": 187
        },
        "id": "dF8QM4xLQVG7",
        "outputId": "215b6f55-ea58-45d7-c95a-94cefa3ffbb2"
      },
      "execution_count": 16,
      "outputs": [
        {
          "output_type": "execute_result",
          "data": {
            "text/plain": [
              "<bound method rv_continuous.pdf of <scipy.stats._continuous_distns.uniform_gen object at 0x7fc8c8c664d0>>"
            ],
            "text/html": [
              "<div style=\"max-width:800px; border: 1px solid var(--colab-border-color);\"><style>\n",
              "      pre.function-repr-contents {\n",
              "        overflow-x: auto;\n",
              "        padding: 8px 12px;\n",
              "        max-height: 500px;\n",
              "      }\n",
              "\n",
              "      pre.function-repr-contents.function-repr-contents-collapsed {\n",
              "        cursor: pointer;\n",
              "        max-height: 100px;\n",
              "      }\n",
              "    </style>\n",
              "    <pre style=\"white-space: initial; background:\n",
              "         var(--colab-secondary-surface-color); padding: 8px 12px;\n",
              "         border-bottom: 1px solid var(--colab-border-color);\"><b>scipy.stats._distn_infrastructure.rv_continuous.pdf</b><br/>def pdf(x, *args, **kwds)</pre><pre class=\"function-repr-contents function-repr-contents-collapsed\" style=\"\"><a class=\"filepath\" style=\"display:none\" href=\"#\">/usr/local/lib/python3.11/dist-packages/scipy/stats/_distn_infrastructure.py</a>Probability density function at x of the given RV.\n",
              "\n",
              "Parameters\n",
              "----------\n",
              "x : array_like\n",
              "    quantiles\n",
              "arg1, arg2, arg3,... : array_like\n",
              "    The shape parameter(s) for the distribution (see docstring of the\n",
              "    instance object for more information)\n",
              "loc : array_like, optional\n",
              "    location parameter (default=0)\n",
              "scale : array_like, optional\n",
              "    scale parameter (default=1)\n",
              "\n",
              "Returns\n",
              "-------\n",
              "pdf : ndarray\n",
              "    Probability density function evaluated at x</pre>\n",
              "      <script>\n",
              "      if (google.colab.kernel.accessAllowed && google.colab.files && google.colab.files.view) {\n",
              "        for (const element of document.querySelectorAll('.filepath')) {\n",
              "          element.style.display = 'block'\n",
              "          element.onclick = (event) => {\n",
              "            event.preventDefault();\n",
              "            event.stopPropagation();\n",
              "            google.colab.files.view(element.textContent, 2021);\n",
              "          };\n",
              "        }\n",
              "      }\n",
              "      for (const element of document.querySelectorAll('.function-repr-contents')) {\n",
              "        element.onclick = (event) => {\n",
              "          event.preventDefault();\n",
              "          event.stopPropagation();\n",
              "          element.classList.toggle('function-repr-contents-collapsed');\n",
              "        };\n",
              "      }\n",
              "      </script>\n",
              "      </div>"
            ]
          },
          "metadata": {},
          "execution_count": 16
        }
      ]
    },
    {
      "cell_type": "code",
      "source": [
        "uniform.ppf"
      ],
      "metadata": {
        "colab": {
          "base_uri": "https://localhost:8080/",
          "height": 187
        },
        "id": "mIwfBE_oTBoX",
        "outputId": "1f1011f0-3dda-4500-8469-da494eb3999e"
      },
      "execution_count": 20,
      "outputs": [
        {
          "output_type": "execute_result",
          "data": {
            "text/plain": [
              "<bound method rv_continuous.ppf of <scipy.stats._continuous_distns.uniform_gen object at 0x7fc8c8c664d0>>"
            ],
            "text/html": [
              "<div style=\"max-width:800px; border: 1px solid var(--colab-border-color);\"><style>\n",
              "      pre.function-repr-contents {\n",
              "        overflow-x: auto;\n",
              "        padding: 8px 12px;\n",
              "        max-height: 500px;\n",
              "      }\n",
              "\n",
              "      pre.function-repr-contents.function-repr-contents-collapsed {\n",
              "        cursor: pointer;\n",
              "        max-height: 100px;\n",
              "      }\n",
              "    </style>\n",
              "    <pre style=\"white-space: initial; background:\n",
              "         var(--colab-secondary-surface-color); padding: 8px 12px;\n",
              "         border-bottom: 1px solid var(--colab-border-color);\"><b>scipy.stats._distn_infrastructure.rv_continuous.ppf</b><br/>def ppf(q, *args, **kwds)</pre><pre class=\"function-repr-contents function-repr-contents-collapsed\" style=\"\"><a class=\"filepath\" style=\"display:none\" href=\"#\">/usr/local/lib/python3.11/dist-packages/scipy/stats/_distn_infrastructure.py</a>Percent point function (inverse of `cdf`) at q of the given RV.\n",
              "\n",
              "Parameters\n",
              "----------\n",
              "q : array_like\n",
              "    lower tail probability\n",
              "arg1, arg2, arg3,... : array_like\n",
              "    The shape parameter(s) for the distribution (see docstring of the\n",
              "    instance object for more information)\n",
              "loc : array_like, optional\n",
              "    location parameter (default=0)\n",
              "scale : array_like, optional\n",
              "    scale parameter (default=1)\n",
              "\n",
              "Returns\n",
              "-------\n",
              "x : array_like\n",
              "    quantile corresponding to the lower tail probability q.</pre>\n",
              "      <script>\n",
              "      if (google.colab.kernel.accessAllowed && google.colab.files && google.colab.files.view) {\n",
              "        for (const element of document.querySelectorAll('.filepath')) {\n",
              "          element.style.display = 'block'\n",
              "          element.onclick = (event) => {\n",
              "            event.preventDefault();\n",
              "            event.stopPropagation();\n",
              "            google.colab.files.view(element.textContent, 2272);\n",
              "          };\n",
              "        }\n",
              "      }\n",
              "      for (const element of document.querySelectorAll('.function-repr-contents')) {\n",
              "        element.onclick = (event) => {\n",
              "          event.preventDefault();\n",
              "          event.stopPropagation();\n",
              "          element.classList.toggle('function-repr-contents-collapsed');\n",
              "        };\n",
              "      }\n",
              "      </script>\n",
              "      </div>"
            ]
          },
          "metadata": {},
          "execution_count": 20
        }
      ]
    },
    {
      "cell_type": "code",
      "source": [
        "uniform.median"
      ],
      "metadata": {
        "colab": {
          "base_uri": "https://localhost:8080/",
          "height": 187
        },
        "id": "8LQryi7fSgXs",
        "outputId": "43726d86-aa4e-4fac-80a2-866a0bd6a1a1"
      },
      "execution_count": 18,
      "outputs": [
        {
          "output_type": "execute_result",
          "data": {
            "text/plain": [
              "<bound method rv_generic.median of <scipy.stats._continuous_distns.uniform_gen object at 0x7fc8c8c664d0>>"
            ],
            "text/html": [
              "<div style=\"max-width:800px; border: 1px solid var(--colab-border-color);\"><style>\n",
              "      pre.function-repr-contents {\n",
              "        overflow-x: auto;\n",
              "        padding: 8px 12px;\n",
              "        max-height: 500px;\n",
              "      }\n",
              "\n",
              "      pre.function-repr-contents.function-repr-contents-collapsed {\n",
              "        cursor: pointer;\n",
              "        max-height: 100px;\n",
              "      }\n",
              "    </style>\n",
              "    <pre style=\"white-space: initial; background:\n",
              "         var(--colab-secondary-surface-color); padding: 8px 12px;\n",
              "         border-bottom: 1px solid var(--colab-border-color);\"><b>scipy.stats._distn_infrastructure.rv_generic.median</b><br/>def median(*args, **kwds)</pre><pre class=\"function-repr-contents function-repr-contents-collapsed\" style=\"\"><a class=\"filepath\" style=\"display:none\" href=\"#\">/usr/local/lib/python3.11/dist-packages/scipy/stats/_distn_infrastructure.py</a>Median of the distribution.\n",
              "\n",
              "Parameters\n",
              "----------\n",
              "arg1, arg2, arg3,... : array_like\n",
              "    The shape parameter(s) for the distribution (see docstring of the\n",
              "    instance object for more information)\n",
              "loc : array_like, optional\n",
              "    Location parameter, Default is 0.\n",
              "scale : array_like, optional\n",
              "    Scale parameter, Default is 1.\n",
              "\n",
              "Returns\n",
              "-------\n",
              "median : float\n",
              "    The median of the distribution.\n",
              "\n",
              "See Also\n",
              "--------\n",
              "rv_discrete.ppf\n",
              "    Inverse of the CDF</pre>\n",
              "      <script>\n",
              "      if (google.colab.kernel.accessAllowed && google.colab.files && google.colab.files.view) {\n",
              "        for (const element of document.querySelectorAll('.filepath')) {\n",
              "          element.style.display = 'block'\n",
              "          element.onclick = (event) => {\n",
              "            event.preventDefault();\n",
              "            event.stopPropagation();\n",
              "            google.colab.files.view(element.textContent, 1355);\n",
              "          };\n",
              "        }\n",
              "      }\n",
              "      for (const element of document.querySelectorAll('.function-repr-contents')) {\n",
              "        element.onclick = (event) => {\n",
              "          event.preventDefault();\n",
              "          event.stopPropagation();\n",
              "          element.classList.toggle('function-repr-contents-collapsed');\n",
              "        };\n",
              "      }\n",
              "      </script>\n",
              "      </div>"
            ]
          },
          "metadata": {},
          "execution_count": 18
        }
      ]
    },
    {
      "cell_type": "code",
      "source": [
        "uniform.fit"
      ],
      "metadata": {
        "colab": {
          "base_uri": "https://localhost:8080/",
          "height": 187
        },
        "id": "Ugx5QxWsS2TF",
        "outputId": "20619125-e55c-45f3-c3cf-fa254c194829"
      },
      "execution_count": 19,
      "outputs": [
        {
          "output_type": "execute_result",
          "data": {
            "text/plain": [
              "<bound method uniform_gen.fit of <scipy.stats._continuous_distns.uniform_gen object at 0x7fc8c8c664d0>>"
            ],
            "text/html": [
              "<div style=\"max-width:800px; border: 1px solid var(--colab-border-color);\"><style>\n",
              "      pre.function-repr-contents {\n",
              "        overflow-x: auto;\n",
              "        padding: 8px 12px;\n",
              "        max-height: 500px;\n",
              "      }\n",
              "\n",
              "      pre.function-repr-contents.function-repr-contents-collapsed {\n",
              "        cursor: pointer;\n",
              "        max-height: 100px;\n",
              "      }\n",
              "    </style>\n",
              "    <pre style=\"white-space: initial; background:\n",
              "         var(--colab-secondary-surface-color); padding: 8px 12px;\n",
              "         border-bottom: 1px solid var(--colab-border-color);\"><b>scipy.stats._continuous_distns.uniform_gen.fit</b><br/>def fit(data, *args, **kwds)</pre><pre class=\"function-repr-contents function-repr-contents-collapsed\" style=\"\"><a class=\"filepath\" style=\"display:none\" href=\"#\">/usr/local/lib/python3.11/dist-packages/scipy/stats/_continuous_distns.py</a>Maximum likelihood estimate for the location and scale parameters.\n",
              "\n",
              "`uniform.fit` uses only the following parameters.  Because exact\n",
              "formulas are used, the parameters related to optimization that are\n",
              "available in the `fit` method of other distributions are ignored\n",
              "here.  The only positional argument accepted is `data`.\n",
              "\n",
              "Parameters\n",
              "----------\n",
              "data : array_like\n",
              "    Data to use in calculating the maximum likelihood estimate.\n",
              "floc : float, optional\n",
              "    Hold the location parameter fixed to the specified value.\n",
              "fscale : float, optional\n",
              "    Hold the scale parameter fixed to the specified value.\n",
              "\n",
              "Returns\n",
              "-------\n",
              "loc, scale : float\n",
              "    Maximum likelihood estimates for the location and scale.\n",
              "\n",
              "Notes\n",
              "-----\n",
              "An error is raised if `floc` is given and any values in `data` are\n",
              "less than `floc`, or if `fscale` is given and `fscale` is less\n",
              "than ``data.max() - data.min()``.  An error is also raised if both\n",
              "`floc` and `fscale` are given.\n",
              "\n",
              "Examples\n",
              "--------\n",
              "&gt;&gt;&gt; import numpy as np\n",
              "&gt;&gt;&gt; from scipy.stats import uniform\n",
              "\n",
              "We&#x27;ll fit the uniform distribution to `x`:\n",
              "\n",
              "&gt;&gt;&gt; x = np.array([2, 2.5, 3.1, 9.5, 13.0])\n",
              "\n",
              "For a uniform distribution MLE, the location is the minimum of the\n",
              "data, and the scale is the maximum minus the minimum.\n",
              "\n",
              "&gt;&gt;&gt; loc, scale = uniform.fit(x)\n",
              "&gt;&gt;&gt; loc\n",
              "2.0\n",
              "&gt;&gt;&gt; scale\n",
              "11.0\n",
              "\n",
              "If we know the data comes from a uniform distribution where the support\n",
              "starts at 0, we can use ``floc=0``:\n",
              "\n",
              "&gt;&gt;&gt; loc, scale = uniform.fit(x, floc=0)\n",
              "&gt;&gt;&gt; loc\n",
              "0.0\n",
              "&gt;&gt;&gt; scale\n",
              "13.0\n",
              "\n",
              "Alternatively, if we know the length of the support is 12, we can use\n",
              "``fscale=12``:\n",
              "\n",
              "&gt;&gt;&gt; loc, scale = uniform.fit(x, fscale=12)\n",
              "&gt;&gt;&gt; loc\n",
              "1.5\n",
              "&gt;&gt;&gt; scale\n",
              "12.0\n",
              "\n",
              "In that last example, the support interval is [1.5, 13.5].  This\n",
              "solution is not unique.  For example, the distribution with ``loc=2``\n",
              "and ``scale=12`` has the same likelihood as the one above.  When\n",
              "`fscale` is given and it is larger than ``data.max() - data.min()``,\n",
              "the parameters returned by the `fit` method center the support over\n",
              "the interval ``[data.min(), data.max()]``.</pre>\n",
              "      <script>\n",
              "      if (google.colab.kernel.accessAllowed && google.colab.files && google.colab.files.view) {\n",
              "        for (const element of document.querySelectorAll('.filepath')) {\n",
              "          element.style.display = 'block'\n",
              "          element.onclick = (event) => {\n",
              "            event.preventDefault();\n",
              "            event.stopPropagation();\n",
              "            google.colab.files.view(element.textContent, 10903);\n",
              "          };\n",
              "        }\n",
              "      }\n",
              "      for (const element of document.querySelectorAll('.function-repr-contents')) {\n",
              "        element.onclick = (event) => {\n",
              "          event.preventDefault();\n",
              "          event.stopPropagation();\n",
              "          element.classList.toggle('function-repr-contents-collapsed');\n",
              "        };\n",
              "      }\n",
              "      </script>\n",
              "      </div>"
            ]
          },
          "metadata": {},
          "execution_count": 19
        }
      ]
    },
    {
      "cell_type": "code",
      "source": [
        "from scipy.stats import norm\n",
        "help(norm)"
      ],
      "metadata": {
        "colab": {
          "base_uri": "https://localhost:8080/"
        },
        "id": "8zsNlPrCTyqu",
        "outputId": "4305b315-08c4-4e15-f01d-035495ddf3cd"
      },
      "execution_count": 23,
      "outputs": [
        {
          "output_type": "stream",
          "name": "stdout",
          "text": [
            "Help on norm_gen in module scipy.stats._continuous_distns:\n",
            "\n",
            "<scipy.stats._continuous_distns.norm_gen object>\n",
            "    A normal continuous random variable.\n",
            "    \n",
            "    The location (``loc``) keyword specifies the mean.\n",
            "    The scale (``scale``) keyword specifies the standard deviation.\n",
            "    \n",
            "    As an instance of the `rv_continuous` class, `norm` object inherits from it\n",
            "    a collection of generic methods (see below for the full list),\n",
            "    and completes them with details specific for this particular distribution.\n",
            "    \n",
            "    Methods\n",
            "    -------\n",
            "    rvs(loc=0, scale=1, size=1, random_state=None)\n",
            "        Random variates.\n",
            "    pdf(x, loc=0, scale=1)\n",
            "        Probability density function.\n",
            "    logpdf(x, loc=0, scale=1)\n",
            "        Log of the probability density function.\n",
            "    cdf(x, loc=0, scale=1)\n",
            "        Cumulative distribution function.\n",
            "    logcdf(x, loc=0, scale=1)\n",
            "        Log of the cumulative distribution function.\n",
            "    sf(x, loc=0, scale=1)\n",
            "        Survival function  (also defined as ``1 - cdf``, but `sf` is sometimes more accurate).\n",
            "    logsf(x, loc=0, scale=1)\n",
            "        Log of the survival function.\n",
            "    ppf(q, loc=0, scale=1)\n",
            "        Percent point function (inverse of ``cdf`` --- percentiles).\n",
            "    isf(q, loc=0, scale=1)\n",
            "        Inverse survival function (inverse of ``sf``).\n",
            "    moment(order, loc=0, scale=1)\n",
            "        Non-central moment of the specified order.\n",
            "    stats(loc=0, scale=1, moments='mv')\n",
            "        Mean('m'), variance('v'), skew('s'), and/or kurtosis('k').\n",
            "    entropy(loc=0, scale=1)\n",
            "        (Differential) entropy of the RV.\n",
            "    fit(data)\n",
            "        Parameter estimates for generic data.\n",
            "        See `scipy.stats.rv_continuous.fit <https://docs.scipy.org/doc/scipy/reference/generated/scipy.stats.rv_continuous.fit.html#scipy.stats.rv_continuous.fit>`__ for detailed documentation of the\n",
            "        keyword arguments.\n",
            "    expect(func, args=(), loc=0, scale=1, lb=None, ub=None, conditional=False, **kwds)\n",
            "        Expected value of a function (of one argument) with respect to the distribution.\n",
            "    median(loc=0, scale=1)\n",
            "        Median of the distribution.\n",
            "    mean(loc=0, scale=1)\n",
            "        Mean of the distribution.\n",
            "    var(loc=0, scale=1)\n",
            "        Variance of the distribution.\n",
            "    std(loc=0, scale=1)\n",
            "        Standard deviation of the distribution.\n",
            "    interval(confidence, loc=0, scale=1)\n",
            "        Confidence interval with equal areas around the median.\n",
            "    \n",
            "    Notes\n",
            "    -----\n",
            "    The probability density function for `norm` is:\n",
            "    \n",
            "    .. math::\n",
            "    \n",
            "        f(x) = \\frac{\\exp(-x^2/2)}{\\sqrt{2\\pi}}\n",
            "    \n",
            "    for a real number :math:`x`.\n",
            "    \n",
            "    The probability density above is defined in the \"standardized\" form. To shift\n",
            "    and/or scale the distribution use the ``loc`` and ``scale`` parameters.\n",
            "    Specifically, ``norm.pdf(x, loc, scale)`` is identically\n",
            "    equivalent to ``norm.pdf(y) / scale`` with\n",
            "    ``y = (x - loc) / scale``. Note that shifting the location of a distribution\n",
            "    does not make it a \"noncentral\" distribution; noncentral generalizations of\n",
            "    some distributions are available in separate classes.\n",
            "    \n",
            "    Examples\n",
            "    --------\n",
            "    >>> import numpy as np\n",
            "    >>> from scipy.stats import norm\n",
            "    >>> import matplotlib.pyplot as plt\n",
            "    >>> fig, ax = plt.subplots(1, 1)\n",
            "    \n",
            "    Calculate the first four moments:\n",
            "    \n",
            "    \n",
            "    >>> mean, var, skew, kurt = norm.stats(moments='mvsk')\n",
            "    \n",
            "    Display the probability density function (``pdf``):\n",
            "    \n",
            "    >>> x = np.linspace(norm.ppf(0.01),\n",
            "    ...                 norm.ppf(0.99), 100)\n",
            "    >>> ax.plot(x, norm.pdf(x),\n",
            "    ...        'r-', lw=5, alpha=0.6, label='norm pdf')\n",
            "    \n",
            "    Alternatively, the distribution object can be called (as a function)\n",
            "    to fix the shape, location and scale parameters. This returns a \"frozen\"\n",
            "    RV object holding the given parameters fixed.\n",
            "    \n",
            "    Freeze the distribution and display the frozen ``pdf``:\n",
            "    \n",
            "    >>> rv = norm()\n",
            "    >>> ax.plot(x, rv.pdf(x), 'k-', lw=2, label='frozen pdf')\n",
            "    \n",
            "    Check accuracy of ``cdf`` and ``ppf``:\n",
            "    \n",
            "    >>> vals = norm.ppf([0.001, 0.5, 0.999])\n",
            "    >>> np.allclose([0.001, 0.5, 0.999], norm.cdf(vals))\n",
            "    True\n",
            "    \n",
            "    Generate random numbers:\n",
            "    \n",
            "    >>> r = norm.rvs(size=1000)\n",
            "    \n",
            "    And compare the histogram:\n",
            "    \n",
            "    >>> ax.hist(r, density=True, bins='auto', histtype='stepfilled', alpha=0.2)\n",
            "    >>> ax.set_xlim([x[0], x[-1]])\n",
            "    >>> ax.legend(loc='best', frameon=False)\n",
            "    >>> plt.show()\n",
            "\n"
          ]
        }
      ]
    },
    {
      "cell_type": "markdown",
      "source": [
        "**Estimation Quiz Questions**"
      ],
      "metadata": {
        "id": "CakZFan4NN4-"
      }
    },
    {
      "cell_type": "markdown",
      "source": [
        "Sample Mean Height of 100 men is 180 cm. variance of the population / sample is 36 cm square. Find the 95% confidence interval for the mean height of the population(µ).\n",
        "\n",
        "(key to use for mean option + m)"
      ],
      "metadata": {
        "id": "dlpsf7NYbEBS"
      }
    },
    {
      "cell_type": "code",
      "source": [
        "from scipy.stats import norm\n",
        "import numpy as np\n",
        "\n",
        "# Mean height of 100 men is 180 cm\n",
        "samp_size = 100\n",
        "samp_m = 180  # cm\n",
        "samp_variance = 36 # cm square\n",
        "\n",
        "samp_sigma = np.sqrt(samp_variance)\n",
        "\n",
        "print(np.round(norm.interval(0.95, loc=samp_m, scale=samp_sigma / np.sqrt(samp_size)), 3))\n",
        "\n",
        "#np.round(norm.interval(0.95, loc=x_bar, scale=sigma / np.sqrt(n)), 2)"
      ],
      "metadata": {
        "colab": {
          "base_uri": "https://localhost:8080/"
        },
        "id": "s9DtkMFMWPPZ",
        "outputId": "ab57fb9a-a32d-4bca-a249-daddfd2fe08e"
      },
      "execution_count": 29,
      "outputs": [
        {
          "output_type": "stream",
          "name": "stdout",
          "text": [
            "[178.824 181.176]\n"
          ]
        }
      ]
    },
    {
      "cell_type": "markdown",
      "source": [
        "A random sample of 100 apartments (unfurnished one-bed room listed on websites) rent is 1000 USD in chicago. Assume a population standard deviation of 200 USD.\n",
        "What is the 95% confidence interval for the mean rent (µ) ?"
      ],
      "metadata": {
        "id": "fKemu0SGfP5P"
      }
    },
    {
      "cell_type": "code",
      "source": [
        "from scipy.stats import norm\n",
        "\n",
        "samp_m = 1000\n",
        "samp_sigma = 200\n",
        "samp_size = 100\n",
        "ci = 0.95\n",
        "\n",
        "print('95% Confidence Interval the rent of apartment will in the range of',np.round(norm.interval(ci, loc=samp_m, scale=samp_sigma / np.sqrt(samp_size)), 1))\n"
      ],
      "metadata": {
        "colab": {
          "base_uri": "https://localhost:8080/"
        },
        "id": "cDPXyUk8g92_",
        "outputId": "8861a8b4-b07d-4793-fcc5-65c1efbab908"
      },
      "execution_count": 32,
      "outputs": [
        {
          "output_type": "stream",
          "name": "stdout",
          "text": [
            "95% Confidence Interval the rent of apartment will in the range of [ 960.8 1039.2]\n"
          ]
        }
      ]
    },
    {
      "cell_type": "markdown",
      "source": [
        "A survey of females aged 16-60 was conducted by the Department of Population Censuses(DPC). A sample of 50 females students was found to have a mean height of 160.9 cm with a standard deviation of 6 cm.\n",
        "Determine the 95% confidence interval for the average height of the population ?\n"
      ],
      "metadata": {
        "id": "MxsaP04Th9cX"
      }
    },
    {
      "cell_type": "code",
      "source": [
        "norm.interval"
      ],
      "metadata": {
        "colab": {
          "base_uri": "https://localhost:8080/",
          "height": 187
        },
        "id": "UDZazJDBnEIy",
        "outputId": "de3ff9f5-3836-4f5b-aae9-975139ac647c"
      },
      "execution_count": 41,
      "outputs": [
        {
          "output_type": "execute_result",
          "data": {
            "text/plain": [
              "<bound method rv_generic.interval of <scipy.stats._continuous_distns.norm_gen object at 0x7fc8c8789250>>"
            ],
            "text/html": [
              "<div style=\"max-width:800px; border: 1px solid var(--colab-border-color);\"><style>\n",
              "      pre.function-repr-contents {\n",
              "        overflow-x: auto;\n",
              "        padding: 8px 12px;\n",
              "        max-height: 500px;\n",
              "      }\n",
              "\n",
              "      pre.function-repr-contents.function-repr-contents-collapsed {\n",
              "        cursor: pointer;\n",
              "        max-height: 100px;\n",
              "      }\n",
              "    </style>\n",
              "    <pre style=\"white-space: initial; background:\n",
              "         var(--colab-secondary-surface-color); padding: 8px 12px;\n",
              "         border-bottom: 1px solid var(--colab-border-color);\"><b>scipy.stats._distn_infrastructure.rv_generic.interval</b><br/>def interval(confidence, *args, **kwds)</pre><pre class=\"function-repr-contents function-repr-contents-collapsed\" style=\"\"><a class=\"filepath\" style=\"display:none\" href=\"#\">/usr/local/lib/python3.11/dist-packages/scipy/stats/_distn_infrastructure.py</a>Confidence interval with equal areas around the median.\n",
              "\n",
              "Parameters\n",
              "----------\n",
              "confidence : array_like of float\n",
              "    Probability that an rv will be drawn from the returned range.\n",
              "    Each value should be in the range [0, 1].\n",
              "arg1, arg2, ... : array_like\n",
              "    The shape parameter(s) for the distribution (see docstring of the\n",
              "    instance object for more information).\n",
              "loc : array_like, optional\n",
              "    location parameter, Default is 0.\n",
              "scale : array_like, optional\n",
              "    scale parameter, Default is 1.\n",
              "\n",
              "Returns\n",
              "-------\n",
              "a, b : ndarray of float\n",
              "    end-points of range that contain ``100 * alpha %`` of the rv&#x27;s\n",
              "    possible values.\n",
              "\n",
              "Notes\n",
              "-----\n",
              "This is implemented as ``ppf([p_tail, 1-p_tail])``, where\n",
              "``ppf`` is the inverse cumulative distribution function and\n",
              "``p_tail = (1-confidence)/2``. Suppose ``[c, d]`` is the support of a\n",
              "discrete distribution; then ``ppf([0, 1]) == (c-1, d)``. Therefore,\n",
              "when ``confidence=1`` and the distribution is discrete, the left end\n",
              "of the interval will be beyond the support of the distribution.\n",
              "For discrete distributions, the interval will limit the probability\n",
              "in each tail to be less than or equal to ``p_tail`` (usually\n",
              "strictly less).</pre>\n",
              "      <script>\n",
              "      if (google.colab.kernel.accessAllowed && google.colab.files && google.colab.files.view) {\n",
              "        for (const element of document.querySelectorAll('.filepath')) {\n",
              "          element.style.display = 'block'\n",
              "          element.onclick = (event) => {\n",
              "            event.preventDefault();\n",
              "            event.stopPropagation();\n",
              "            google.colab.files.view(element.textContent, 1454);\n",
              "          };\n",
              "        }\n",
              "      }\n",
              "      for (const element of document.querySelectorAll('.function-repr-contents')) {\n",
              "        element.onclick = (event) => {\n",
              "          event.preventDefault();\n",
              "          event.stopPropagation();\n",
              "          element.classList.toggle('function-repr-contents-collapsed');\n",
              "        };\n",
              "      }\n",
              "      </script>\n",
              "      </div>"
            ]
          },
          "metadata": {},
          "execution_count": 41
        }
      ]
    },
    {
      "cell_type": "code",
      "source": [
        "from scipy.stats import norm\n",
        "from scipy.stats import t\n",
        "\n",
        "samp_size = 50\n",
        "samp_m = 160.9\n",
        "samp_sigma = 6\n",
        "ci = 95 / 100\n",
        "\n",
        "#when variation comes use t distrubution and not normal\n",
        "\n",
        "#You haven't measured every single member of the population: If you could measure every single height of every female aged 16-60 in the entire population,\n",
        "#you could calculate the true population standard deviation. But this is almost always impractical or impossible.\n",
        "\n",
        "\n",
        "#ci_range = np.round(norm.interval(0.95, loc=samp_m, scale=samp_sigma/ np.sqrt(samp_size)), 2)\n",
        "\n",
        "ci_range = np.round(t.interval(0.95, df=50-1, loc=samp_m, scale=samp_sigma/ np.sqrt(samp_size)), 2)\n",
        "\n",
        "ci_range\n"
      ],
      "metadata": {
        "colab": {
          "base_uri": "https://localhost:8080/"
        },
        "id": "0mZsPKwhh7eh",
        "outputId": "650fdd48-0b4c-40e4-c4d9-e5abd96b5b6c"
      },
      "execution_count": 43,
      "outputs": [
        {
          "output_type": "execute_result",
          "data": {
            "text/plain": [
              "array([159.19, 162.61])"
            ]
          },
          "metadata": {},
          "execution_count": 43
        }
      ]
    }
  ]
}