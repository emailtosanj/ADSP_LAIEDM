{
 "cells": [
  {
   "cell_type": "markdown",
   "metadata": {
    "id": "eT8ztZbiu4Dk"
   },
   "source": [
    "# **PCA and t-SNE Project: Auto MPG**\n",
    "\n",
    "# **Marks: 30**\n",
    "\n",
    "Welcome to the project on PCA and t-SNE. In this project, we will be using the **auto-mpg dataset**.\n",
    "\n",
    "-----------------------------\n",
    "## **Context**\n",
    "-----------------------------\n",
    "\n",
    "The shifting market conditions, globalization, cost pressure, and volatility are leading to a change in the automobile market landscape. The emergence of data, in conjunction with machine learning in automobile companies, has paved a way that is helping bring operational and business transformations.\n",
    "\n",
    "The automobile market is vast and diverse, with numerous vehicle categories being manufactured and sold with varying configurations of attributes such as displacement, horsepower, and acceleration. We aim to find combinations of these features that can clearly distinguish certain groups of automobiles from others through this analysis, as this will inform other downstream processes for any organization aiming to sell each group of vehicles to a slightly different target audience.\n",
    "\n",
    "You are a Data Scientist at SecondLife which is a leading used car dealership with numerous outlets across the US. Recently, they have started shifting their focus to vintage cars and have been diligently collecting data about all the vintage cars they have sold over the years. The Director of Operations at SecondLife wants to leverage the data to extract insights about the cars and find different groups of vintage cars to target the audience more efficiently.\n",
    "\n",
    "\n",
    "-----------------------------\n",
    "## **Objective**\n",
    "-----------------------------\n",
    "The objective of this problem is to **explore the data, reduce the number of features by using dimensionality reduction techniques like PCA and t-SNE, and extract meaningful insights**.\n",
    "\n",
    "-----------------------------\n",
    "## **Dataset** \n",
    "-----------------------------\n",
    "There are 8 variables in the data: \n",
    "\n",
    "- mpg: miles per gallon\n",
    "- cyl: number of cylinders\n",
    "- disp: engine displacement (cu. inches) or engine size\n",
    "- hp: horsepower\n",
    "- wt: vehicle weight (lbs.)\n",
    "- acc: time taken to accelerate from 0 to 60 mph (sec.)\n",
    "- yr: model year\n",
    "- car name: car model name"
   ]
  },
  {
   "cell_type": "markdown",
   "metadata": {},
   "source": [
    "### **Please read the instructions carefully before starting the project.** \n",
    "\n",
    "This is a commented Jupyter IPython Notebook file in which all the instructions and tasks to be performed are mentioned. Read along carefully to complete the project.\n",
    "\n",
    "- Blanks '_______' are provided in the notebook that needs to be filled with an appropriate code to get the correct result. Please replace the blank with the right code snippet. With every '_______' blank, there is a comment that briefly describes what needs to be filled in the blank space. \n",
    "- Identify the task to be performed correctly, and only then proceed to write the required code.\n",
    "- Fill the code wherever asked by the commented lines like \"# Fill in the blank\" or \"# Complete the code\". Running incomplete code may throw an error.\n",
    "- Remove the blank and state your observations in detail wherever the mark down says 'Observations:_____'\n",
    "- Please run the codes in a sequential manner from the beginning to avoid any unnecessary errors.\n",
    "- You can use the results/observations derived from the analysis here to create your final report.\n"
   ]
  },
  {
   "cell_type": "markdown",
   "metadata": {
    "id": "e7YUSFfGu4Du"
   },
   "source": [
    "## **Importing the necessary libraries and overview of the dataset**"
   ]
  },
  {
   "cell_type": "code",
   "execution_count": null,
   "metadata": {
    "id": "aVFeA7eWu4Dv"
   },
   "outputs": [],
   "source": [
    "import pandas as pd\n",
    "\n",
    "import numpy as np\n",
    "\n",
    "import matplotlib.pyplot as plt\n",
    "\n",
    "import seaborn as sns\n",
    "\n",
    "# To scale the data using z-score \n",
    "from sklearn.preprocessing import StandardScaler\n",
    "\n",
    "# Importing PCA and t-SNE\n",
    "from sklearn.decomposition import PCA\n",
    "\n",
    "from sklearn.manifold import TSNE"
   ]
  },
  {
   "cell_type": "markdown",
   "metadata": {
    "id": "g2bXBiAivujY"
   },
   "source": [
    "### **Loading the data**"
   ]
  },
  {
   "cell_type": "code",
   "execution_count": null,
   "metadata": {
    "id": "MuQU1BD-u4Dx"
   },
   "outputs": [],
   "source": [
    "data = pd.read_csv(\"auto-mpg.csv\")"
   ]
  },
  {
   "cell_type": "code",
   "execution_count": null,
   "metadata": {
    "id": "KczGshrVu4Dy",
    "outputId": "f93467ba-526b-4d6c-e0cd-b45a565bcf5d"
   },
   "outputs": [],
   "source": [
    "data.head()"
   ]
  },
  {
   "cell_type": "markdown",
   "metadata": {
    "id": "sTXXY0cVvuja"
   },
   "source": [
    "### **Checking the info of the data**"
   ]
  },
  {
   "cell_type": "code",
   "execution_count": null,
   "metadata": {
    "id": "iNuAIXhqvuja",
    "outputId": "9b8f4ee0-1f3c-4cb0-acbe-6ec39b89b859"
   },
   "outputs": [],
   "source": [
    "data.info()"
   ]
  },
  {
   "cell_type": "markdown",
   "metadata": {
    "id": "yfUl_sjHvujb"
   },
   "source": [
    "**Observations:**\n",
    "\n",
    "- There are **398 observations and 8 columns** in the data.\n",
    "- **All variables except horsepower and car name are of numeric data type.**\n",
    "- The horsepower must be a numeric data type. We will explore this further."
   ]
  },
  {
   "cell_type": "markdown",
   "metadata": {
    "id": "1B_nVTGSvujb"
   },
   "source": [
    "## **Data Preprocessing and Exploratory Data Analysis**"
   ]
  },
  {
   "cell_type": "markdown",
   "metadata": {
    "id": "CxK6y0izPyg8"
   },
   "source": [
    "### **Checking the unique values in the 'car name' column**"
   ]
  },
  {
   "cell_type": "code",
   "execution_count": null,
   "metadata": {
    "id": "xwmALVCRvujb",
    "outputId": "7d593b59-02d9-4612-8f44-acac854c64dd"
   },
   "outputs": [],
   "source": [
    "data[\"car name\"].nunique()"
   ]
  },
  {
   "cell_type": "markdown",
   "metadata": {
    "id": "HtksWvFgu4Dz"
   },
   "source": [
    "- The column 'car name' is of object data type containing a lot of unique entries and would not add values to our analysis. We can drop this column."
   ]
  },
  {
   "cell_type": "code",
   "execution_count": null,
   "metadata": {
    "id": "x_gzOWz7u4D0"
   },
   "outputs": [],
   "source": [
    "# Creating copy of the data so that we don't lose the original data\n",
    "data1 = data.copy()\n",
    "\n",
    "# Dropping the column 'car name'\n",
    "data = data.drop(['car name'], axis = 1)"
   ]
  },
  {
   "cell_type": "markdown",
   "metadata": {
    "id": "5h4vat2Wvujc"
   },
   "source": [
    "### **Checking values in the horsepower column**"
   ]
  },
  {
   "cell_type": "code",
   "execution_count": null,
   "metadata": {
    "id": "S7lk2lGQvujc",
    "outputId": "49039370-367d-424a-dd3e-ada47832ce3e"
   },
   "outputs": [],
   "source": [
    "# Checking if there are values other than digits in the column 'horsepower'\n",
    "\n",
    "hpIsDigit = pd.DataFrame(data.horsepower.str.isdigit())  # If the string consists of digits return True else False\n",
    "\n",
    "data[hpIsDigit['horsepower'] == False]   # Take only those rows where horsepower is not a digit"
   ]
  },
  {
   "cell_type": "markdown",
   "metadata": {
    "id": "Z1qqm_S0vujd"
   },
   "source": [
    "**Observations:**\n",
    "- There are **6 observations where horsepower is ?**. We can consider these values as **missing values**.\n",
    "- We can **impute these missing values and change the data type** of horsepower column. \n",
    "- First, we need to **replace the ? with np.nan**."
   ]
  },
  {
   "cell_type": "code",
   "execution_count": null,
   "metadata": {
    "id": "xWvn0LhBvujd",
    "outputId": "47f8a323-e978-4cf0-d31e-87242594abe8"
   },
   "outputs": [],
   "source": [
    "# Replacing ? with np.nan\n",
    "data = data.replace('?', np.nan)\n",
    "\n",
    "data[hpIsDigit['horsepower'] == False]"
   ]
  },
  {
   "cell_type": "code",
   "execution_count": null,
   "metadata": {
    "id": "w56loeKtvujd"
   },
   "outputs": [],
   "source": [
    "# Imputing the missing values with the median value of the column horsepower\n",
    "data.horsepower.fillna(data.horsepower.median(), inplace = True)\n",
    "\n",
    "data['horsepower'] = data['horsepower'].astype('float64')  # Converting the horsepower column from object data type to float"
   ]
  },
  {
   "cell_type": "markdown",
   "metadata": {
    "id": "Ejfe_eP4vuje"
   },
   "source": [
    "### **Summary Statistics**"
   ]
  },
  {
   "cell_type": "markdown",
   "metadata": {
    "id": "t_C7ym49vuje"
   },
   "source": [
    "- Check the summary statistics of the data"
   ]
  },
  {
   "cell_type": "code",
   "execution_count": null,
   "metadata": {
    "id": "bK37aYa5vuje"
   },
   "outputs": [],
   "source": [
    "# Write your code here"
   ]
  },
  {
   "cell_type": "markdown",
   "metadata": {
    "id": "YJB5hRFevuje"
   },
   "source": [
    "**Write your observations here:________**"
   ]
  },
  {
   "cell_type": "markdown",
   "metadata": {
    "id": "kNOc_6aZvujf"
   },
   "source": [
    "### **Let's check the distribution and outliers for each column in the data**"
   ]
  },
  {
   "cell_type": "markdown",
   "metadata": {
    "id": "Cj6WLN6tvujf"
   },
   "source": [
    "- Create histograms to check the distribution of all the variables \n",
    "- Create boxplots to visualize the outliers for all the variables "
   ]
  },
  {
   "cell_type": "code",
   "execution_count": null,
   "metadata": {
    "id": "w21FDMJSvujf"
   },
   "outputs": [],
   "source": [
    "# Complete the below code by filling the blanks, before running this cell, to avoid any errors\n",
    "\n",
    "for col in data.columns:\n",
    "    print(col)\n",
    "\n",
    "    print('Skew :', round(data[col].skew(), 2))\n",
    "    \n",
    "    plt.figure(figsize = (15, 4))\n",
    "    \n",
    "    plt.subplot(1, 2, 1)\n",
    "    \n",
    "    data[col].____________ # Complete the code\n",
    "    \n",
    "    plt.ylabel('count')\n",
    "    \n",
    "    plt.subplot(1, 2, 2)\n",
    "    \n",
    "    sns.boxplot(x = ___________) # Complete the code\n",
    "    \n",
    "    plt.show()"
   ]
  },
  {
   "cell_type": "markdown",
   "metadata": {
    "id": "Ny5YaZhvvujf"
   },
   "source": [
    "**Write your observations here:________**"
   ]
  },
  {
   "cell_type": "markdown",
   "metadata": {
    "id": "d6Vqxb0-u4D4"
   },
   "source": [
    "### **Checking the correlation**"
   ]
  },
  {
   "cell_type": "code",
   "execution_count": null,
   "metadata": {
    "id": "VP3jF_XJvujg",
    "outputId": "888a9007-0881-4fbc-fe60-8d1bdcb21afd"
   },
   "outputs": [],
   "source": [
    "plt.figure(figsize = (8, 8))\n",
    "num_cols = data.select_dtypes(include = \"number\").columns.to_list()\n",
    "sns.heatmap(data[num_cols].corr(), annot = True)\n",
    "\n",
    "plt.show()"
   ]
  },
  {
   "cell_type": "markdown",
   "metadata": {
    "id": "a71M7-jdvujg"
   },
   "source": [
    "**Observations:**\n",
    "- The variable mpg has a strong negative correlation with cylinders, displacement, horsepower, and weight.\n",
    "- horsepower and acceleration are negatively correlated.\n",
    "- The variable weight has a strong positive correlation with horsepower, displacement, and cylinders.\n",
    "- model year is positively correlated with mpg."
   ]
  },
  {
   "cell_type": "markdown",
   "metadata": {
    "id": "WVuQ8rRuvujg"
   },
   "source": [
    "### **Scaling the data**"
   ]
  },
  {
   "cell_type": "code",
   "execution_count": null,
   "metadata": {
    "id": "PWPOuZzwu4D5"
   },
   "outputs": [],
   "source": [
    "# Scaling the data\n",
    "scaler = StandardScaler()\n",
    "\n",
    "data_scaled = pd.DataFrame(scaler.fit_transform(data), columns = data.columns)"
   ]
  },
  {
   "cell_type": "code",
   "execution_count": null,
   "metadata": {
    "id": "zj6upuANvujh",
    "outputId": "f2ebdab6-9906-46fb-8782-55eb129965e1"
   },
   "outputs": [],
   "source": [
    "data_scaled.head()"
   ]
  },
  {
   "cell_type": "markdown",
   "metadata": {
    "id": "eIAZ2xZuvujh"
   },
   "source": [
    "## **Principal Component Analysis**"
   ]
  },
  {
   "cell_type": "markdown",
   "metadata": {
    "id": "4B9fk5wTvuji"
   },
   "source": [
    "#### **Applying the PCA algorithm with number of components equal to the total number of columns in the data**"
   ]
  },
  {
   "cell_type": "code",
   "execution_count": null,
   "metadata": {
    "id": "SqS_ahV0vuji"
   },
   "outputs": [],
   "source": [
    "# Defining the number of principal components to generate \n",
    "n = data_scaled.shape[1]\n",
    "\n",
    "# Finding principal components for the data\n",
    "# Apply the PCA algorithm with random_state = 1\n",
    "pca = _____________ # Complete the code \n",
    "\n",
    "# Fit and transform the pca function on scaled data\n",
    "data_pca1 = pd.DataFrame(__________) # Complete the code    \n",
    "\n",
    "# The percentage of variance explained by each principal component\n",
    "exp_var = pca.explained_variance_ratio_"
   ]
  },
  {
   "cell_type": "code",
   "execution_count": null,
   "metadata": {
    "id": "1OiDLM52vuji",
    "outputId": "a19b17aa-644e-457f-ce5b-df84a4c792ae"
   },
   "outputs": [],
   "source": [
    "# Visualize the explained variance by individual components\n",
    "plt.figure(figsize = (10, 10))\n",
    "\n",
    "plt.plot(range(1, 8), exp_var.cumsum(), marker = 'o', linestyle = '--')\n",
    "\n",
    "plt.title(\"Explained Variances by Components\")\n",
    "\n",
    "plt.xlabel(\"Number of Components\")\n",
    "\n",
    "plt.ylabel(\"Cumulative Explained Variance\")\n",
    "\n",
    "plt.show()"
   ]
  },
  {
   "cell_type": "code",
   "execution_count": null,
   "metadata": {
    "id": "qclnWlJ9vujj",
    "outputId": "d0a90e0f-be3d-4cd0-ca40-5e506efb09d3"
   },
   "outputs": [],
   "source": [
    "# Finding the least number of components that can explain more than 90% variance\n",
    "sum = 0\n",
    "\n",
    "for ix, i in enumerate(exp_var):\n",
    "    sum = sum + i\n",
    "    if(sum>0.90):\n",
    "        print(\"Number of PCs that explain at least 90% variance: \", ix + 1)\n",
    "        break"
   ]
  },
  {
   "cell_type": "markdown",
   "metadata": {
    "id": "-P3Hl-3Pvujj"
   },
   "source": [
    "**Write your observations here:________**"
   ]
  },
  {
   "cell_type": "code",
   "execution_count": null,
   "metadata": {
    "id": "_G_-CsZJvujj",
    "outputId": "bcdbe123-e1f6-470b-ded9-91d18eeaf1a1"
   },
   "outputs": [],
   "source": [
    "pc_comps = ['PC1', 'PC2', 'PC3']\n",
    "\n",
    "data_pca = pd.DataFrame(np.round(pca.components_[:3,:], 2), index = pc_comps, columns = data_scaled.columns)\n",
    "\n",
    "data_pca.T"
   ]
  },
  {
   "cell_type": "markdown",
   "metadata": {
    "id": "ZDG7G_ZDvujk"
   },
   "source": [
    "#### **Interpret the coefficients of the first three principal components from the below DataFrame**"
   ]
  },
  {
   "cell_type": "code",
   "execution_count": null,
   "metadata": {
    "id": "mi16_6Bxvujk",
    "outputId": "5a1d6297-5d23-4588-d369-64a694b72b18"
   },
   "outputs": [],
   "source": [
    "def color_high(val):\n",
    "    if val <= -0.40:\n",
    "        return 'background: pink'\n",
    "    \n",
    "    elif val >= 0.40:\n",
    "        return 'background: skyblue'   \n",
    "    \n",
    "data_pca.T.style.applymap(color_high)"
   ]
  },
  {
   "cell_type": "markdown",
   "metadata": {
    "id": "oG5orJKGvujk"
   },
   "source": [
    "**Write your observations here:________**"
   ]
  },
  {
   "cell_type": "markdown",
   "metadata": {
    "id": "jZo1h9pNvujk"
   },
   "source": [
    "#### We can also visualize the data in 2 dimensions using the first two principal components "
   ]
  },
  {
   "cell_type": "code",
   "execution_count": null,
   "metadata": {
    "id": "7iWxTqHfvujl",
    "outputId": "c19271e0-592d-4875-896c-5b476f22bf20"
   },
   "outputs": [],
   "source": [
    "plt.figure(figsize = (7, 7))\n",
    "\n",
    "sns.scatterplot(x = data_pca1[0], y = data_pca1[1])\n",
    "\n",
    "plt.xlabel(\"PC1\")\n",
    "\n",
    "plt.ylabel(\"PC2\")\n",
    "\n",
    "plt.show()"
   ]
  },
  {
   "cell_type": "markdown",
   "metadata": {
    "id": "eH9VeKRBvujl"
   },
   "source": [
    "**Let's try adding hue to the scatter plot**"
   ]
  },
  {
   "cell_type": "code",
   "execution_count": null,
   "metadata": {
    "id": "VrB1kzKpvujl"
   },
   "outputs": [],
   "source": [
    "df_concat = pd.concat([_____, ______], axis = 1)  # Complete the code \n",
    "\n",
    "plt.figure(figsize = (7, 7))\n",
    "\n",
    "# Create a scatter plot with x = 0 and y = 1 using df_concat dataframe\n",
    "_____________________ # Complete the code \n",
    "\n",
    "plt.xlabel(\"PC1\")\n",
    "\n",
    "plt.ylabel(\"PC2\")\n",
    "\n",
    "plt.show()"
   ]
  },
  {
   "cell_type": "markdown",
   "metadata": {
    "id": "v1i8nQCevujl"
   },
   "source": [
    "**Write your observations here:________**"
   ]
  },
  {
   "cell_type": "markdown",
   "metadata": {
    "id": "4TY5Sh719iVg"
   },
   "source": [
    "## **t-SNE**"
   ]
  },
  {
   "cell_type": "code",
   "execution_count": null,
   "metadata": {
    "id": "dW1jMGn7u4D7"
   },
   "outputs": [],
   "source": [
    "# Apply the t-SNE algorithm with random_state = 1\n",
    "tsne = ____________ # Complete the code           \n",
    "\n",
    "# Fit and transform t-SNE function on the scaled data\n",
    "data_tsne = ______________ # Complete the code    "
   ]
  },
  {
   "cell_type": "code",
   "execution_count": null,
   "metadata": {
    "id": "gC17thkgu4D7",
    "outputId": "bcfb2a47-d252-40e7-bfad-b7959472ed4e"
   },
   "outputs": [],
   "source": [
    "data_tsne.shape"
   ]
  },
  {
   "cell_type": "code",
   "execution_count": null,
   "metadata": {
    "id": "Gfybekuyu4D8"
   },
   "outputs": [],
   "source": [
    "data_tsne = pd.DataFrame(data = data_tsne, columns = ['Component 1', 'Component 2'])"
   ]
  },
  {
   "cell_type": "code",
   "execution_count": null,
   "metadata": {
    "id": "oNoqqDg5u4D8",
    "outputId": "18f48a19-17fe-4e23-80d9-3877d752ee9b"
   },
   "outputs": [],
   "source": [
    "data_tsne.head()"
   ]
  },
  {
   "cell_type": "code",
   "execution_count": null,
   "metadata": {
    "id": "Ix_OL7AIu4D9",
    "outputId": "3fee5301-ea4f-41d5-fc37-79ec5d61f877"
   },
   "outputs": [],
   "source": [
    "sns.scatterplot(x = data_tsne.iloc[:,0], y = data_tsne.iloc[:,1])\n",
    "\n",
    "plt.show()"
   ]
  },
  {
   "cell_type": "code",
   "execution_count": null,
   "metadata": {
    "id": "WW3GQboou4D9",
    "outputId": "72fec8c5-1ea3-4418-be0a-dbad1788bf78"
   },
   "outputs": [],
   "source": [
    "# Let's see the scatter plot of the data w.r.t number of cylinders\n",
    "sns.scatterplot(x = data_tsne.iloc[:,0], y = data_tsne.iloc[:,1], hue = data.cylinders)\n",
    "\n",
    "plt.show()"
   ]
  },
  {
   "cell_type": "markdown",
   "metadata": {
    "id": "PEfKLZkou4D-"
   },
   "source": [
    "**Write your observations here:________**"
   ]
  },
  {
   "cell_type": "code",
   "execution_count": null,
   "metadata": {
    "id": "aLTJSNBvu4D_"
   },
   "outputs": [],
   "source": [
    "# Let's assign points to 3 different groups\n",
    "def grouping(x):\n",
    "    first_component = x['Component 1']\n",
    "    \n",
    "    second_component = x['Component 2']\n",
    "    \n",
    "    if (first_component > 0) and (second_component > -5): \n",
    "        return 'group_1'\n",
    "    \n",
    "    if (first_component > -20 ) and (first_component < 5):\n",
    "        return 'group_2'\n",
    "    \n",
    "    else: \n",
    "        return 'group_3'"
   ]
  },
  {
   "cell_type": "code",
   "execution_count": null,
   "metadata": {
    "id": "R6rWEgPPu4EA"
   },
   "outputs": [],
   "source": [
    "data_tsne['groups'] = data_tsne.apply(grouping, axis = 1)"
   ]
  },
  {
   "cell_type": "code",
   "execution_count": null,
   "metadata": {
    "id": "RX-r_I0-u4EA",
    "outputId": "ca9011cf-b67e-4376-be11-4692ebfe1326"
   },
   "outputs": [],
   "source": [
    "sns.scatterplot(x = data_tsne.iloc[:,0], y = data_tsne.iloc[:,1], hue = data_tsne.iloc[:,2])\n",
    "\n",
    "plt.show()"
   ]
  },
  {
   "cell_type": "code",
   "execution_count": null,
   "metadata": {
    "id": "hHh5_G9iu4EB"
   },
   "outputs": [],
   "source": [
    "data['groups'] = data_tsne['groups'] "
   ]
  },
  {
   "cell_type": "code",
   "execution_count": null,
   "metadata": {
    "id": "TycHswKhu4EB"
   },
   "outputs": [],
   "source": [
    "all_col = data.columns.tolist()\n",
    "\n",
    "plt.figure(figsize = (20, 20))\n",
    "\n",
    "for i, variable in enumerate(all_col): \n",
    "    if i == 7:\n",
    "        break\n",
    "    \n",
    "    plt.subplot(4, 2, i + 1)\n",
    "    \n",
    "    # Create the boxplot with groups on the x-axis and variable on the y-axis (use the DataFrame 'data')\n",
    "    __________________ # Complete the code   \n",
    "    \n",
    "    plt.tight_layout()\n",
    "    \n",
    "    plt.title(variable)\n",
    "\n",
    "plt.show()"
   ]
  },
  {
   "cell_type": "markdown",
   "metadata": {
    "id": "37KSsbmSu4EC"
   },
   "source": [
    "**Write your observations here:________**"
   ]
  },
  {
   "cell_type": "markdown",
   "metadata": {
    "id": "pc8YcrbKNpAl"
   },
   "source": [
    "## **Conclusion and Business Recommendations**"
   ]
  },
  {
   "cell_type": "markdown",
   "metadata": {
    "id": "rzfglWJ4NvQn"
   },
   "source": [
    "**Write your Conclusion and Business Recommendations here:**______"
   ]
  }
 ],
 "metadata": {
  "colab": {
   "provenance": []
  },
  "kernelspec": {
   "display_name": "Python 3 (ipykernel)",
   "language": "python",
   "name": "python3"
  },
  "language_info": {
   "codemirror_mode": {
    "name": "ipython",
    "version": 3
   },
   "file_extension": ".py",
   "mimetype": "text/x-python",
   "name": "python",
   "nbconvert_exporter": "python",
   "pygments_lexer": "ipython3",
   "version": "3.11.7"
  }
 },
 "nbformat": 4,
 "nbformat_minor": 4
}
