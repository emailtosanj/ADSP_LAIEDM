{
  "nbformat": 4,
  "nbformat_minor": 0,
  "metadata": {
    "colab": {
      "provenance": [],
      "authorship_tag": "ABX9TyNTw2GtnTPJuOkpDQZj7Hay",
      "include_colab_link": true
    },
    "kernelspec": {
      "name": "python3",
      "display_name": "Python 3"
    },
    "language_info": {
      "name": "python"
    }
  },
  "cells": [
    {
      "cell_type": "markdown",
      "metadata": {
        "id": "view-in-github",
        "colab_type": "text"
      },
      "source": [
        "<a href=\"https://colab.research.google.com/github/sanjaygverma/ADSP_LAIEDM/blob/development/fibonacci.ipynb\" target=\"_parent\"><img src=\"https://colab.research.google.com/assets/colab-badge.svg\" alt=\"Open In Colab\"/></a>"
      ]
    },
    {
      "cell_type": "code",
      "execution_count": 2,
      "metadata": {
        "id": "sywk2atgMyIm",
        "colab": {
          "base_uri": "https://localhost:8080/"
        },
        "outputId": "c9879fc6-686c-4bac-a4a1-b8f9a9edf8fd"
      },
      "outputs": [
        {
          "output_type": "stream",
          "name": "stdout",
          "text": [
            "0\n",
            "1\n",
            "1\n",
            "2\n",
            "3\n"
          ]
        }
      ],
      "source": [
        "# Write a python program that prints the first 5 numbers in the fibonacci series.\n",
        "# Write your code below\n",
        "\n",
        "\n",
        "#<Sanjay> - below program is for fibonacci which does not use recursion\n",
        "# technique and thus it does not occuppy memory of recursive calls.\n",
        "\n",
        "\n",
        "v1 = 0\n",
        "v2 = 1\n",
        "\n",
        "re = 0\n",
        "\n",
        "#n-2 - is the number to be passed to range\n",
        "# change the value in range(n) which will calcuate the fibonacci values.\n",
        "for i in range(3):  # Loop to calculate the next 5 Fibonacci numbers\n",
        "    if i == 0:\n",
        "        print(i)\n",
        "    if i == 1:\n",
        "        print(i)\n",
        "    re = v1 + v2\n",
        "    print(re)\n",
        "    v1, v2 = v2, re  # Update v1 and v2\n",
        "\n",
        "#series\n",
        "# 0, 1, 1, 2, 3, 5, 8, 13, 21, 34, 55, 89, 144"
      ]
    }
  ]
}