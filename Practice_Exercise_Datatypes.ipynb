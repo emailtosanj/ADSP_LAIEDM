{
  "cells": [
    {
      "cell_type": "markdown",
      "metadata": {
        "id": "view-in-github",
        "colab_type": "text"
      },
      "source": [
        "<a href=\"https://colab.research.google.com/github/sanjaygverma/ADSP_LAIEDM/blob/development/Practice_Exercise_Datatypes.ipynb\" target=\"_parent\"><img src=\"https://colab.research.google.com/assets/colab-badge.svg\" alt=\"Open In Colab\"/></a>"
      ]
    },
    {
      "cell_type": "markdown",
      "metadata": {
        "id": "Ovz-UnbGYi0s"
      },
      "source": [
        "# **Data Types in Python**\n",
        "\n",
        "This notebook is aimed at shedding some light on the different data types in Python. This shall form a strong foundation for your programming and Data Science journey."
      ]
    },
    {
      "cell_type": "markdown",
      "metadata": {
        "id": "iQV-KIKFYi0v"
      },
      "source": [
        "Data belongs to different categories. It can be numeric, text, true/false, complex numbers, date, time etc. Data should be stored correctly for us to be able to do the desired operations on the data. If the data is stored incorrectly, for example numerical data is stored as text data, we can not do numerical or arithmetic operations on the data because the methods and the operations for a data depend largely on the type of data (object) being referred to."
      ]
    },
    {
      "cell_type": "markdown",
      "metadata": {
        "id": "CCPmE2w7Yi0w"
      },
      "source": [
        "There are various data types in Python. Listed below are the most prominently used ones:\n",
        "1. Numeric - This is further divided into\n",
        "    (a.) Integer\n",
        "    (b.) Float\n",
        "    (c.) Complex\n",
        "    \n",
        "2. String\n",
        "\n",
        "3. Boolean"
      ]
    },
    {
      "cell_type": "markdown",
      "metadata": {
        "id": "OwcyKntmYi0w"
      },
      "source": [
        "## **Numeric Data Type**"
      ]
    },
    {
      "cell_type": "markdown",
      "metadata": {
        "id": "pwr0AFkeYi0w"
      },
      "source": [
        "As the name suggests, Numeric data type consists of numbers. These numbers can be whole numbers, decimal numbers or complex numbers.\n",
        "\n",
        "Whole numbers are stored in Integer (Int) type.\n",
        "\n",
        "Decimal numbers are stored in Float (Float64) type.\n",
        "\n",
        "Complex numbers are stored in Complex type.\n",
        "\n",
        "You will find Integer and Float type being used most of the times."
      ]
    },
    {
      "cell_type": "markdown",
      "metadata": {
        "id": "jqh3yd1lYi0x"
      },
      "source": [
        "You can check the data type of an object using the type() command."
      ]
    },
    {
      "cell_type": "code",
      "execution_count": 1,
      "metadata": {
        "colab": {
          "base_uri": "https://localhost:8080/"
        },
        "id": "CpMZvotkYi0x",
        "outputId": "4dd52bb7-7414-40ad-f636-1d54d2c37c48"
      },
      "outputs": [
        {
          "output_type": "execute_result",
          "data": {
            "text/plain": [
              "int"
            ]
          },
          "metadata": {},
          "execution_count": 1
        }
      ],
      "source": [
        "# Let's look at some examples.\n",
        "\n",
        "Integer = 7\n",
        "type(Integer)"
      ]
    },
    {
      "cell_type": "code",
      "execution_count": null,
      "metadata": {
        "id": "Z8norl_DYi0z",
        "outputId": "385a6972-67d6-427a-bf9b-455df1ba7b22"
      },
      "outputs": [
        {
          "data": {
            "text/plain": [
              "float"
            ]
          },
          "execution_count": 2,
          "metadata": {},
          "output_type": "execute_result"
        }
      ],
      "source": [
        "Float = 2.356\n",
        "type(Float)"
      ]
    },
    {
      "cell_type": "code",
      "execution_count": null,
      "metadata": {
        "id": "nFmz6sgiYi0z",
        "outputId": "6591b06f-0e6b-4bad-9fa5-d03f9d1c57e3"
      },
      "outputs": [
        {
          "data": {
            "text/plain": [
              "complex"
            ]
          },
          "execution_count": 3,
          "metadata": {},
          "output_type": "execute_result"
        }
      ],
      "source": [
        "Complex = 3.908J\n",
        "type(Complex)"
      ]
    },
    {
      "cell_type": "code",
      "execution_count": 6,
      "metadata": {
        "colab": {
          "base_uri": "https://localhost:8080/"
        },
        "id": "ZRMD_C8vYi0z",
        "outputId": "e5861eaa-fc51-477b-fffb-55662264fd2a"
      },
      "outputs": [
        {
          "output_type": "execute_result",
          "data": {
            "text/plain": [
              "float"
            ]
          },
          "metadata": {},
          "execution_count": 6
        }
      ],
      "source": [
        "# Your turn now.\n",
        "# Store 2, 1086M, 3.14567 into three different objects and check their data types.\n",
        "\n",
        "i = 2\n",
        "type(i)\n",
        "\n",
        "s = \"1086M\"\n",
        "type(s)\n",
        "\n",
        "f = 3.14567\n",
        "type(f)"
      ]
    },
    {
      "cell_type": "markdown",
      "metadata": {
        "id": "aEKwsVDXYi00"
      },
      "source": [
        "*You can come accross some errors while storing the data into objects. You need to understand the error and rectify it as per the correct format*"
      ]
    },
    {
      "cell_type": "markdown",
      "metadata": {
        "id": "UrgZOXJxYi00"
      },
      "source": [
        "## **String Data Type**"
      ]
    },
    {
      "cell_type": "markdown",
      "metadata": {
        "id": "9BhWWsxvYi00"
      },
      "source": [
        "String Data type usually is used to store text. The data to be stored in this data type is enclosed between single ('') or double (\"\") quotes.\n",
        "Recall that you printed your name in the previous Notebook. That was string data type.\n",
        "Let's look at an example."
      ]
    },
    {
      "cell_type": "code",
      "execution_count": 8,
      "metadata": {
        "colab": {
          "base_uri": "https://localhost:8080/",
          "height": 35
        },
        "id": "LF8ewv39Yi00",
        "outputId": "c7d73790-47c1-4adf-8861-24c3690f7e9e"
      },
      "outputs": [
        {
          "output_type": "execute_result",
          "data": {
            "text/plain": [
              "'My name is Jupyter!'"
            ],
            "application/vnd.google.colaboratory.intrinsic+json": {
              "type": "string"
            }
          },
          "metadata": {},
          "execution_count": 8
        }
      ],
      "source": [
        "# Printing your name\n",
        "My_Name = \"My name is Jupyter!\"\n",
        "My_Name"
      ]
    },
    {
      "cell_type": "code",
      "execution_count": 9,
      "metadata": {
        "colab": {
          "base_uri": "https://localhost:8080/"
        },
        "id": "-bpypN4VYi00",
        "outputId": "93082bd4-99b0-4fe4-de6e-40dc3773ed10"
      },
      "outputs": [
        {
          "output_type": "execute_result",
          "data": {
            "text/plain": [
              "str"
            ]
          },
          "metadata": {},
          "execution_count": 9
        }
      ],
      "source": [
        "type(My_Name)"
      ]
    },
    {
      "cell_type": "code",
      "execution_count": null,
      "metadata": {
        "id": "7daE9e0cYi01"
      },
      "outputs": [],
      "source": [
        "# Your turn to play around now.\n",
        "# Save your name to an object and check its data type.\n",
        "\n"
      ]
    },
    {
      "cell_type": "markdown",
      "metadata": {
        "id": "OeYqol-PYi01"
      },
      "source": [
        "Various functions can be performed using strings like searching within a string, conversion to lowercase/uppercase, count, length, splitting, replacing, trimming, partitioning etc."
      ]
    },
    {
      "cell_type": "code",
      "execution_count": 10,
      "metadata": {
        "colab": {
          "base_uri": "https://localhost:8080/"
        },
        "id": "YsCB1BNBYi01",
        "outputId": "8e03493d-6412-4a6f-8618-0d037c2751be"
      },
      "outputs": [
        {
          "output_type": "execute_result",
          "data": {
            "text/plain": [
              "19"
            ]
          },
          "metadata": {},
          "execution_count": 10
        }
      ],
      "source": [
        "# Let's check how many characters does your name contain.\n",
        "len(My_Name)"
      ]
    },
    {
      "cell_type": "code",
      "execution_count": 11,
      "metadata": {
        "colab": {
          "base_uri": "https://localhost:8080/"
        },
        "id": "sD82HlzxYi01",
        "outputId": "05fe21c3-6eaa-4b18-d232-257fc788cfe6"
      },
      "outputs": [
        {
          "output_type": "execute_result",
          "data": {
            "text/plain": [
              "False"
            ]
          },
          "metadata": {},
          "execution_count": 11
        }
      ],
      "source": [
        "# Let's see if My_Name is all caps or not.\n",
        "# isupper() returns True if all the letters are capitals, False if atleast one letter in in lower case.\n",
        "\n",
        "My_Name.isupper()"
      ]
    },
    {
      "cell_type": "code",
      "execution_count": 12,
      "metadata": {
        "colab": {
          "base_uri": "https://localhost:8080/",
          "height": 35
        },
        "id": "BcSlqiQvYi01",
        "outputId": "f501e832-b49b-4445-c53f-7a81a585c782"
      },
      "outputs": [
        {
          "output_type": "execute_result",
          "data": {
            "text/plain": [
              "'MY NAME IS JUPYTER!'"
            ],
            "application/vnd.google.colaboratory.intrinsic+json": {
              "type": "string"
            }
          },
          "metadata": {},
          "execution_count": 12
        }
      ],
      "source": [
        "# Let's convert My_Name to all caps.\n",
        "\n",
        "My_Name = My_Name.upper()\n",
        "My_Name"
      ]
    },
    {
      "cell_type": "code",
      "execution_count": 13,
      "metadata": {
        "colab": {
          "base_uri": "https://localhost:8080/"
        },
        "id": "aLdX1rz7Yi01",
        "outputId": "92425ea8-36ce-4866-988e-cb12fc180db3"
      },
      "outputs": [
        {
          "output_type": "execute_result",
          "data": {
            "text/plain": [
              "True"
            ]
          },
          "metadata": {},
          "execution_count": 13
        }
      ],
      "source": [
        "# Now the output of isupper() changes to True.\n",
        "My_Name.isupper()"
      ]
    },
    {
      "cell_type": "code",
      "execution_count": 34,
      "metadata": {
        "id": "xUN88rl8Yi02"
      },
      "outputs": [],
      "source": [
        "# Your turn to try it now.\n",
        "# Write a sentence and store it into an object.\n",
        "\n",
        "st = \"I am learning Python\""
      ]
    },
    {
      "cell_type": "code",
      "execution_count": 17,
      "metadata": {
        "colab": {
          "base_uri": "https://localhost:8080/"
        },
        "id": "_8OjHv19Yi02",
        "outputId": "3ec50ca6-b2dd-4f66-929a-8d09c4743006"
      },
      "outputs": [
        {
          "output_type": "execute_result",
          "data": {
            "text/plain": [
              "str"
            ]
          },
          "metadata": {},
          "execution_count": 17
        }
      ],
      "source": [
        "# Check the data type of the object you just created.\n",
        "\n",
        "type(st)"
      ]
    },
    {
      "cell_type": "code",
      "execution_count": 22,
      "metadata": {
        "colab": {
          "base_uri": "https://localhost:8080/"
        },
        "id": "rWWvZfZkYi02",
        "outputId": "b13d3d20-7be2-434e-dc71-32094cde449e"
      },
      "outputs": [
        {
          "output_type": "stream",
          "name": "stdout",
          "text": [
            "Its not upper case\n"
          ]
        }
      ],
      "source": [
        "# Check if it is all caps or not.\n",
        "\n",
        "if st.isupper():\n",
        "  print('Its upper case')\n",
        "\n",
        "else:\n",
        "  print('Its not upper case')\n"
      ]
    },
    {
      "cell_type": "code",
      "execution_count": 23,
      "metadata": {
        "colab": {
          "base_uri": "https://localhost:8080/"
        },
        "id": "uSELg6VJYi02",
        "outputId": "5058cfd8-de4b-4376-b115-5e62e553ab37"
      },
      "outputs": [
        {
          "output_type": "stream",
          "name": "stdout",
          "text": [
            "Its not lower case\n"
          ]
        }
      ],
      "source": [
        "# Challenge - Check if it is all lower case or not.\n",
        "\n",
        "if st.islower():\n",
        "  print('Its lower case')\n",
        "\n",
        "else:\n",
        "  print('Its not lower case')"
      ]
    },
    {
      "cell_type": "code",
      "execution_count": 36,
      "metadata": {
        "colab": {
          "base_uri": "https://localhost:8080/"
        },
        "id": "Up4CISn_Yi02",
        "outputId": "92b3a69f-ee49-4cd2-f114-9479c4d819ba"
      },
      "outputs": [
        {
          "output_type": "stream",
          "name": "stdout",
          "text": [
            "I AM LEARNING PYTHON\n"
          ]
        }
      ],
      "source": [
        "# Convert your object into all caps.\n",
        "print(st.upper())"
      ]
    },
    {
      "cell_type": "code",
      "execution_count": 37,
      "metadata": {
        "colab": {
          "base_uri": "https://localhost:8080/"
        },
        "id": "0EwQAcLWYi02",
        "outputId": "6dcd4081-ad6d-4ef6-a50b-cba2910674e8"
      },
      "outputs": [
        {
          "output_type": "stream",
          "name": "stdout",
          "text": [
            "i am learning python\n"
          ]
        }
      ],
      "source": [
        "# Challenge - Convert your object into all lower case.\n",
        "print(st.lower())"
      ]
    },
    {
      "cell_type": "markdown",
      "metadata": {
        "id": "HPnCTnDWYi02"
      },
      "source": [
        "## **Boolean Data Type**"
      ]
    },
    {
      "cell_type": "markdown",
      "metadata": {
        "id": "Ivx7ywYiYi02"
      },
      "source": [
        "The boolean data type has just two values, i.e., True or False."
      ]
    },
    {
      "cell_type": "code",
      "execution_count": null,
      "metadata": {
        "id": "ySCRt4RcYi02"
      },
      "outputs": [],
      "source": [
        "# Let's look at examples.\n",
        "\n",
        "x = True\n",
        "y = False"
      ]
    },
    {
      "cell_type": "code",
      "execution_count": null,
      "metadata": {
        "id": "9ZDrHLdZYi02",
        "outputId": "49a90634-b7ca-41e8-e1a0-d9783e33bb87"
      },
      "outputs": [
        {
          "data": {
            "text/plain": [
              "bool"
            ]
          },
          "execution_count": 32,
          "metadata": {},
          "output_type": "execute_result"
        }
      ],
      "source": [
        "type(x)"
      ]
    },
    {
      "cell_type": "code",
      "execution_count": null,
      "metadata": {
        "id": "GdSELm6GYi03",
        "outputId": "8ce9c4ea-e1de-4138-9daa-202eebc6c452"
      },
      "outputs": [
        {
          "data": {
            "text/plain": [
              "bool"
            ]
          },
          "execution_count": 33,
          "metadata": {},
          "output_type": "execute_result"
        }
      ],
      "source": [
        "type(y)"
      ]
    },
    {
      "cell_type": "code",
      "execution_count": 38,
      "metadata": {
        "colab": {
          "base_uri": "https://localhost:8080/"
        },
        "id": "JvfcrPV0Yi03",
        "outputId": "5766bc50-f220-4402-9afe-8bc22294f528"
      },
      "outputs": [
        {
          "output_type": "stream",
          "name": "stdout",
          "text": [
            "True\n"
          ]
        }
      ],
      "source": [
        "# Your turn!\n",
        "\n",
        "w = (2 == 2)\n",
        "print(w)"
      ]
    },
    {
      "cell_type": "markdown",
      "metadata": {
        "id": "FXQ-g66UYi03"
      },
      "source": [
        "## **Data Type Conversions**"
      ]
    },
    {
      "cell_type": "markdown",
      "metadata": {
        "id": "qdfn19JEYi03"
      },
      "source": [
        "As explained earlier, data should be stored in correct form so that it can be manipulated efficiently later.\n",
        "Quite a lot of times, data is not stored correctly or it gets imported incorrectly.\n",
        "In such cases, data needs to be converted to its correct type so that it can be optimally used in our analysis.\n",
        "Thus, let's look at data type conversion exercises to get you comfortable with the process."
      ]
    },
    {
      "cell_type": "code",
      "execution_count": null,
      "metadata": {
        "id": "qGDXhJjQYi03"
      },
      "outputs": [],
      "source": [
        "# Consider an object containing an integer.\n",
        "string1 = 1"
      ]
    },
    {
      "cell_type": "code",
      "execution_count": null,
      "metadata": {
        "id": "6aD3c4UjYi03",
        "outputId": "89569740-044a-4fa1-b98b-c461a1a07327"
      },
      "outputs": [
        {
          "data": {
            "text/plain": [
              "int"
            ]
          },
          "execution_count": 38,
          "metadata": {},
          "output_type": "execute_result"
        }
      ],
      "source": [
        "type(string1)"
      ]
    },
    {
      "cell_type": "code",
      "execution_count": null,
      "metadata": {
        "id": "8OnZtzcRYi03"
      },
      "outputs": [],
      "source": [
        "# I want to use the value 1 as a text value. So let's convert it.\n",
        "string1 = str(string1)"
      ]
    },
    {
      "cell_type": "code",
      "execution_count": null,
      "metadata": {
        "id": "3NSD7H8lYi03",
        "outputId": "fb2b937a-01e1-482b-b228-b5e2bc77c846"
      },
      "outputs": [
        {
          "data": {
            "text/plain": [
              "str"
            ]
          },
          "execution_count": 45,
          "metadata": {},
          "output_type": "execute_result"
        }
      ],
      "source": [
        "type(string1)"
      ]
    },
    {
      "cell_type": "code",
      "execution_count": 41,
      "metadata": {
        "id": "wiatoWETYi0-"
      },
      "outputs": [],
      "source": [
        "# Exercise for you. Store the number 123456 as string.\n",
        "\n",
        "n = \"123456\""
      ]
    },
    {
      "cell_type": "code",
      "execution_count": null,
      "metadata": {
        "id": "wNFttX3FYi0-"
      },
      "outputs": [],
      "source": [
        "# Let's do the opposite now. Let's learn to convert string to float now."
      ]
    },
    {
      "cell_type": "code",
      "execution_count": 40,
      "metadata": {
        "colab": {
          "base_uri": "https://localhost:8080/"
        },
        "id": "XkFKHB90Yi0-",
        "outputId": "8332940a-8b7a-401e-ccd1-e7488118b19b"
      },
      "outputs": [
        {
          "output_type": "execute_result",
          "data": {
            "text/plain": [
              "str"
            ]
          },
          "metadata": {},
          "execution_count": 40
        }
      ],
      "source": [
        "int1 = \"500\"\n",
        "type(int1)"
      ]
    },
    {
      "cell_type": "code",
      "execution_count": null,
      "metadata": {
        "id": "NC5kktnJYi0-",
        "outputId": "372f76e2-dee0-4b80-edc9-9c845c4163fc"
      },
      "outputs": [
        {
          "data": {
            "text/plain": [
              "int"
            ]
          },
          "execution_count": 55,
          "metadata": {},
          "output_type": "execute_result"
        }
      ],
      "source": [
        "int1 = int(int1)\n",
        "type(int1)"
      ]
    },
    {
      "cell_type": "code",
      "execution_count": 42,
      "metadata": {
        "colab": {
          "base_uri": "https://localhost:8080/"
        },
        "id": "RvE2knacYi0-",
        "outputId": "4d1d2830-7b80-4de7-edd7-343b5010918c"
      },
      "outputs": [
        {
          "output_type": "execute_result",
          "data": {
            "text/plain": [
              "123456.0"
            ]
          },
          "metadata": {},
          "execution_count": 42
        }
      ],
      "source": [
        "# Your turn now.\n",
        "float(n)\n"
      ]
    },
    {
      "cell_type": "markdown",
      "metadata": {
        "id": "JaN1JqVQYi0-"
      },
      "source": [
        "Good job so far!\n",
        "You can also try converting strings to boolean and vice versa.\n",
        "You could also try conversions from integers to float and float to integer.\n",
        "\n",
        "Python is an intuitive language, so by default it stores data into correct formats.\n",
        "But very often we come across data being stored incorrectly especially while importing."
      ]
    }
  ],
  "metadata": {
    "kernelspec": {
      "display_name": "Python 3 (ipykernel)",
      "language": "python",
      "name": "python3"
    },
    "language_info": {
      "codemirror_mode": {
        "name": "ipython",
        "version": 3
      },
      "file_extension": ".py",
      "mimetype": "text/x-python",
      "name": "python",
      "nbconvert_exporter": "python",
      "pygments_lexer": "ipython3",
      "version": "3.11.5"
    },
    "colab": {
      "provenance": [],
      "include_colab_link": true
    }
  },
  "nbformat": 4,
  "nbformat_minor": 0
}